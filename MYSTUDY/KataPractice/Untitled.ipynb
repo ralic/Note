{
 "cells": [
  {
   "cell_type": "code",
   "execution_count": 11,
   "metadata": {},
   "outputs": [],
   "source": [
    "def unique(integers):\n",
    "    result = []\n",
    "    for element in integers:\n",
    "        if element not in result:\n",
    "            result.append(element)\n",
    "    return result"
   ]
  },
  {
   "cell_type": "code",
   "execution_count": 12,
   "metadata": {},
   "outputs": [
    {
     "data": {
      "text/plain": [
       "[1, 5, 2, 0, -3, 10]"
      ]
     },
     "execution_count": 12,
     "output_type": "execute_result",
     "metadata": {}
    }
   ],
   "source": [
    "unique([1, 5, 2, 0, 2, -3, 1, 10])"
   ]
  },
  {
   "cell_type": "code",
   "execution_count": 13,
   "metadata": {},
   "outputs": [
    {
     "data": {
      "text/plain": [
       "[]"
      ]
     },
     "execution_count": 13,
     "output_type": "execute_result",
     "metadata": {}
    }
   ],
   "source": [
    "unique([])"
   ]
  },
  {
   "cell_type": "code",
   "execution_count": 14,
   "metadata": {},
   "outputs": [
    {
     "data": {
      "text/plain": [
       "[1, 2, 3]"
      ]
     },
     "execution_count": 14,
     "output_type": "execute_result",
     "metadata": {}
    }
   ],
   "source": [
    "unique([1,2,3])"
   ]
  },
  {
   "cell_type": "code",
   "execution_count": 18,
   "metadata": {},
   "outputs": [],
   "source": [
    "def digitize(n):\n",
    "    return [int(num) for num in str(n)]"
   ]
  },
  {
   "cell_type": "code",
   "execution_count": 21,
   "metadata": {},
   "outputs": [
    {
     "data": {
      "text/plain": [
       "[(3, 10), (8, 8), (1, 5), (6, 3), (2, 2)]"
      ]
     },
     "execution_count": 21,
     "output_type": "execute_result",
     "metadata": {}
    }
   ],
   "source": [
    "def sort_dict(d):\n",
    "    'return a sorted list of tuples from the dictionary'\n",
    "    x = {value: key for key, value in d.items()}\n",
    "    return [(x[key], key) for key in sorted(x.keys(), reverse=True)]\n",
    "sort_dict({1:5,3:10,2:2,6:3,8:8})"
   ]
  },
  {
   "cell_type": "code",
   "execution_count": 22,
   "metadata": {},
   "outputs": [],
   "source": [
    "def sort_dict2(d):\n",
    "    return sorted(d.items(), key=lambda x: x[1], reverse=True)"
   ]
  },
  {
   "cell_type": "code",
   "execution_count": 35,
   "metadata": {},
   "outputs": [
    {
     "data": {
      "text/plain": [
       "False"
      ]
     },
     "execution_count": 35,
     "output_type": "execute_result",
     "metadata": {}
    }
   ],
   "source": [
    "def is_prime(n):\n",
    "    'Return True if n is a prime number otherwise return False'\n",
    "    if n < 2:\n",
    "        return False\n",
    "    if n == 2:\n",
    "        return True\n",
    "    for i in range(2, int(n ** 0.5 + 2)):\n",
    "        if n % i == 0:\n",
    "            return False\n",
    "    return True\n",
    "\n",
    "is_prime(25)"
   ]
  },
  {
   "cell_type": "code",
   "execution_count": 36,
   "metadata": {},
   "outputs": [],
   "source": [
    "# 开闭原则，对扩展开放，对修改关闭。除了greet其他的是扩展函数。\n",
    "spoken    = lambda greeting: greeting.title() + \".\"\n",
    "shouted   = lambda greeting: greeting.upper() + \"!\"\n",
    "whispered = lambda greeting: greeting.lower() + \".\"\n",
    "\n",
    "greet = lambda style, msg:   style(msg)"
   ]
  },
  {
   "cell_type": "code",
   "execution_count": 37,
   "metadata": {},
   "outputs": [
    {
     "data": {
      "text/plain": [
       "[(0, 2), (3, 6), (7, 7), (9, 12)]"
      ]
     },
     "execution_count": 37,
     "output_type": "execute_result",
     "metadata": {}
    }
   ],
   "source": [
    "# 区间合并myl为list，interval为tuple\n",
    "\"\"\" Write a function interval_insert which takes as input a list myl of disjoint closed intervals \n",
    "with integer endpoints, sorted by increasing order of left endpoint, and an interval interval, \n",
    "and returns the union of interval with the intervals in myl, expressed as a union of disjoint intervals.\n",
    "EXAMPLE:\n",
    "    [(1, 2)], (3, 4)-> [(1, 2), (3, 4)]\n",
    "    [(3, 4)], (1, 2)-> [(1, 2), (3, 4)]\n",
    "    [(1, 2), (4, 6)], (1, 4) -> [(1, 6)] \n",
    "    [(0, 2), (3, 6), (7, 7), (9, 12)], (1, 8) -> [(0, 8), (9, 12)]\n",
    "\"\"\"    \n",
    "def joint(t1, t2):\n",
    "    if t1[0] < t2[0] or t1[1] < t2[0]\n",
    "def interval_insert (myl, interval):\n",
    "    sortlist = sorted(myl, key=lambda x: x[0])\n",
    "    startpoint, endpoint = interval[0], interval[1]\n",
    "    for sl in sortlist:\n",
    "        if \n",
    "interval_insert([(0, 2), (3, 6), (7, 7), (9, 12)])"
   ]
  },
  {
   "cell_type": "code",
   "execution_count": 39,
   "metadata": {},
   "outputs": [
    {
     "data": {
      "text/plain": [
       "'123,456,789,012'"
      ]
     },
     "execution_count": 39,
     "output_type": "execute_result",
     "metadata": {}
    }
   ],
   "source": [
    "# Ex. 123456 -> \"123,456\"\n",
    "def to_currency(price):\n",
    "    price = list(str(price))\n",
    "    result = \"\"\n",
    "    while len(price) > 3 :\n",
    "        result = \",\" + \"\".join(price[-3:]) + result\n",
    "        price = \"\".join(price[:-3])\n",
    "    result = \"\".join(price) + result\n",
    "    return result\n",
    "\n",
    "to_currency(123456789012)"
   ]
  },
  {
   "cell_type": "code",
   "execution_count": 41,
   "metadata": {},
   "outputs": [
    {
     "data": {
      "text/plain": [
       "'123,456,789,012'"
      ]
     },
     "execution_count": 41,
     "output_type": "execute_result",
     "metadata": {}
    }
   ],
   "source": [
    "def to_currency_simple(price):\n",
    "    return '{:,}'.format(price)\n",
    "to_currency(123456789012)"
   ]
  },
  {
   "cell_type": "code",
   "execution_count": 42,
   "metadata": {},
   "outputs": [
    {
     "data": {
      "text/plain": [
       "10"
      ]
     },
     "execution_count": 42,
     "output_type": "execute_result",
     "metadata": {}
    }
   ],
   "source": [
    "def sum_args(*arg):\n",
    "    return sum(arg)\n",
    "sum_args(1,2,3,4)"
   ]
  },
  {
   "cell_type": "code",
   "execution_count": 45,
   "metadata": {},
   "outputs": [
    {
     "data": {
      "text/plain": [
       "6"
      ]
     },
     "execution_count": 45,
     "output_type": "execute_result",
     "metadata": {}
    }
   ],
   "source": [
    "def digital_root(n):\n",
    "    while True:\n",
    "        n = sum([int(num) for num in list(str(n))])\n",
    "        if n < 10:\n",
    "            return n\n",
    "digital_root(942)"
   ]
  },
  {
   "cell_type": "code",
   "execution_count": 52,
   "metadata": {},
   "outputs": [
    {
     "data": {
      "text/plain": [
       "True"
      ]
     },
     "execution_count": 52,
     "output_type": "execute_result",
     "metadata": {}
    }
   ],
   "source": [
    "# A pangram is a sentence that contains every single letter of the alphabet at least once. \n",
    "# For example, the sentence \"The quick brown fox jumps over the lazy dog\" \n",
    "# is a pangram, because it uses the letters A-Z at least once (case is irrelevant).\n",
    "def is_pangram(s):\n",
    "    letters = \"qwertyuiopasdfghjklzxcvbnm\"\n",
    "    return all(letter in set(s) for letter in letters)\n",
    "\n",
    "is_pangram(\"The quick brown fox jumps over the lazy dog\")"
   ]
  },
  {
   "cell_type": "code",
   "execution_count": 55,
   "metadata": {},
   "outputs": [],
   "source": [
    "# 逆置句子中每个单词\n",
    "def reverse_words(strs):\n",
    "    return \" \".join([words[::-1] for words in strs.split(\" \")])"
   ]
  },
  {
   "cell_type": "code",
   "execution_count": 56,
   "metadata": {},
   "outputs": [
    {
     "data": {
      "text/plain": [
       "'sihT si na !elpmaxe'"
      ]
     },
     "execution_count": 56,
     "output_type": "execute_result",
     "metadata": {}
    }
   ],
   "source": [
    "reverse_words(\"This is an example!\")"
   ]
  },
  {
   "cell_type": "code",
   "metadata": {},
   "outputs": [],
   "source": [
    ""
   ]
  }
 ],
 "metadata": {
  "kernelspec": {
   "display_name": "Python 2",
   "language": "python",
   "name": "python2"
  },
  "language_info": {
   "codemirror_mode": {
    "name": "ipython",
    "version": 2.0
   },
   "file_extension": ".py",
   "mimetype": "text/x-python",
   "name": "python",
   "nbconvert_exporter": "python",
   "pygments_lexer": "ipython2",
   "version": "2.7.9"
  }
 },
 "nbformat": 4,
 "nbformat_minor": 0
}