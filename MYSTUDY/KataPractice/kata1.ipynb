{
 "cells": [
  {
   "cell_type": "code",
   "execution_count": 9,
   "metadata": {},
   "outputs": [],
   "source": [
    "# 定义栈\n",
    "class CWStack(object):\n",
    "    def __init__(self):\n",
    "        self.stack = []\n",
    "        \n",
    "    def isEmpty(self):\n",
    "        return len(self.stack) == 0\n",
    "    \n",
    "    def push(self, element):\n",
    "        self.stack.append(element)\n",
    "        \n",
    "    def pop(self):\n",
    "        if self.isEmpty() is not None:\n",
    "            return self.stack.pop()\n",
    "    def top(self):\n",
    "        if self.isEmpty():\n",
    "            return \n",
    "        return self.stack[-1]\n",
    "    \n",
    "    def __str__(self):\n",
    "        return \"Stack of size: %d\" % len(self.stack)\n",
    "        \n",
    "def reverse_str(s, stack):\n",
    "    result = \"\"\n",
    "    for element in s:\n",
    "        stack.push(element)\n",
    "    while not stack.isEmpty():\n",
    "        result += stack.pop()\n",
    "    return result"
   ]
  },
  {
   "cell_type": "code",
   "execution_count": 10,
   "metadata": {},
   "outputs": [
    {
     "data": {
      "text/plain": [
       "'olleh'"
      ]
     },
     "execution_count": 10,
     "output_type": "execute_result",
     "metadata": {}
    }
   ],
   "source": [
    "s = CWStack()\n",
    "s.isEmpty()\n",
    "s.push(10)\n",
    "s.top()\n",
    "s.pop()\n",
    "s.__str__()\n",
    "reverse_str('hello', CWStack())"
   ]
  },
  {
   "cell_type": "code",
   "execution_count": 11,
   "metadata": {},
   "outputs": [],
   "source": [
    "\"\"\"\n",
    "Find the length of the longest substring in the given string s that is the same in reverse.\n",
    "\n",
    "As an example, if the input was “I like racecars that go fast”, the substring length would be 7.\n",
    "\"\"\"\n",
    "def longest_palindrome (s):\n",
    "    pass"
   ]
  },
  {
   "cell_type": "code",
   "execution_count": 36,
   "metadata": {},
   "outputs": [],
   "source": [
    "\"\"\"\n",
    "Attention Agent.\n",
    "\n",
    "The White House is currently developing a mobile app that it can use to issue instructions to it's undercover agents.\n",
    "\n",
    "Part of the functionality of this app is to have messages that can be read only once, and are then destroyed.\n",
    "\n",
    "As our best undercover developer, we need you to implement a SecureList class that will deliver this functionality.\n",
    "\n",
    "Behaviour different to the traditional list is outlined below:\n",
    "\"\"\"\n",
    "class SecureList():\n",
    "    def __init__(self, base):\n",
    "        self.base = base[:]\n",
    "    \n",
    "    def __str__(self):\n",
    "        result = str(self.base)\n",
    "        self.base = []\n",
    "        return result\n",
    "    \n",
    "    def __getitem__(self, item):\n",
    "        return self.base.pop(item)\n",
    "    \n",
    "    def __repr__(self):\n",
    "        return self.__str__()\n",
    "    \n",
    "    def __len__(self):\n",
    "        return len(self.base)\n",
    "\n",
    "base=[1,2,3,4]\n",
    "a=SecureList(base)"
   ]
  },
  {
   "cell_type": "code",
   "execution_count": 38,
   "metadata": {},
   "outputs": [
    {
     "ename": "IndentationError",
     "evalue": "unexpected unindent (<ipython-input-38-f56c96271b64>, line 5)",
     "output_type": "error",
     "traceback": [
      "\u001b[1;36m  File \u001b[1;32m\"<ipython-input-38-f56c96271b64>\"\u001b[1;36m, line \u001b[1;32m5\u001b[0m\n\u001b[1;33m    return wrapper\u001b[0m\n\u001b[1;37m    ^\u001b[0m\n\u001b[1;31mIndentationError\u001b[0m\u001b[1;31m:\u001b[0m unexpected unindent\n"
     ]
    }
   ],
   "source": [
    "def contextmanager(f):\n",
    "    def wrapper(*args, **kwargs):\n",
    "        try:\n",
    "            yield f\n",
    "        except:\n",
    "            \n",
    "    return wrapper"
   ]
  },
  {
   "cell_type": "code",
   "execution_count": 28,
   "metadata": {},
   "outputs": [
    {
     "name": "stdout",
     "output_type": "stream",
     "text": [
      "[1,2,3,4]\n",
      "[]\n"
     ]
    }
   ],
   "source": [
    "messages=SecureList([1,2,3,4])\n",
    "print messages     # prints [1,2,3,4]\n",
    "print messages     # prints []"
   ]
  },
  {
   "cell_type": "code",
   "execution_count": 30,
   "metadata": {},
   "outputs": [
    {
     "name": "stdout",
     "output_type": "stream",
     "text": [
      "my messages are: [1,2,3,4].\n",
      "[]\n"
     ]
    }
   ],
   "source": [
    "messages=SecureList([1,2,3,4])\n",
    "print \"my messages are: %r.\"%messages     # prints \"my messages are: [1,2,3,4].\n",
    "print messages     # prints []"
   ]
  },
  {
   "cell_type": "code",
   "execution_count": 39,
   "metadata": {},
   "outputs": [],
   "source": [
    "\"\"\"\n",
    "keys = ['a', 'b', 'c', 'd']\n",
    "values = [1, 2, 3]\n",
    "createDict(keys, values) # returns {'a': 1, 'b': 2, 'c': 3, 'd': None}\n",
    "\n",
    "keys = ['a', 'b', 'c']\n",
    "values = [1, 2, 3, 4]\n",
    "createDict(keys, values) # returns {'a': 1, 'b': 2, 'c': 3}\n",
    "\"\"\"\n",
    "def createDict(keys, values):\n",
    "    return dict(zip(keys, values + len(keys) * [None]))"
   ]
  },
  {
   "cell_type": "code",
   "execution_count": 40,
   "metadata": {},
   "outputs": [],
   "source": [
    "def midpoint_sum(ints):\n",
    "    if len(ints) < 3:\n",
    "        return None\n",
    "    for index, element in enumerate(ints):\n",
    "        if index == 0 or index == len(ints) - 1:\n",
    "            continue\n",
    "        left = sum(ints[:index])\n",
    "        right = sum(ints[index+1:])\n",
    "        if left == right:\n",
    "            return index\n",
    "    return None"
   ]
  },
  {
   "cell_type": "code",
   "execution_count": 41,
   "metadata": {},
   "outputs": [
    {
     "data": {
      "text/plain": [
       "3"
      ]
     },
     "execution_count": 41,
     "output_type": "execute_result",
     "metadata": {}
    }
   ],
   "source": [
    "midpoint_sum([4, 1, 7, 9, 3, 9])"
   ]
  },
  {
   "cell_type": "code",
   "execution_count": 43,
   "metadata": {},
   "outputs": [
    {
     "data": {
      "text/plain": [
       "3"
      ]
     },
     "execution_count": 43,
     "output_type": "execute_result",
     "metadata": {}
    }
   ],
   "source": [
    "# 左边加右边减\n",
    "def midpoint_sum_good(ints):\n",
    "    left, right = 0, sum(ints)\n",
    "    for i, v in enumerate(ints[:-1]):\n",
    "        right -= v\n",
    "        if i and left == right:\n",
    "            return i\n",
    "        left += v\n",
    "midpoint_sum([4, 1, 7, 9, 3, 9])"
   ]
  },
  {
   "cell_type": "code",
   "execution_count": 62,
   "metadata": {},
   "outputs": [
    {
     "name": "stdout",
     "output_type": "stream",
     "text": [
      "0\n"
     ]
    }
   ],
   "source": [
    "# 惰性求值,需要值的时候在求解\n",
    "def make_lazy(*args):\n",
    "    def wrap():\n",
    "        return args[0](*args[1:])\n",
    "    return wrap\n",
    "\n",
    "def modding(a,b):\n",
    "    return a%b\n",
    "\n",
    "lazy_mod= make_lazy(modding,4,4)\n",
    "print lazy_mod()"
   ]
  },
  {
   "cell_type": "code",
   "execution_count": 66,
   "metadata": {},
   "outputs": [
    {
     "data": {
      "text/plain": [
       "3"
      ]
     },
     "execution_count": 66,
     "output_type": "execute_result",
     "metadata": {}
    }
   ],
   "source": [
    "def root(x, n):\n",
    "    s = 1\n",
    "    while n <= x:\n",
    "        s, n = s + 1, n ** 2\n",
    "    return s\n",
    "root(9, 2)"
   ]
  },
  {
   "cell_type": "code",
   "metadata": {},
   "outputs": [],
   "source": [
    "def root(x, n):\n",
    "    start = 0\n",
    "    end = x\n",
    "    number = (start + end) / 2\n",
    "    while True:\n",
    "        result = number ** n\n",
    "        if result == x:\n",
    "            break\n",
    "        elif result > x:\n",
    "            end = number - 1\n",
    "            number = (start + end) / 2\n",
    "        else:\n",
    "            start = number + 1\n",
    "            number = (start + end) / 2\n",
    "    return number\n",
    "\n",
    "root(256, 4)"
   ]
  },
  {
   "cell_type": "code",
   "metadata": {},
   "outputs": [],
   "source": [
    ""
   ]
  }
 ],
 "metadata": {
  "kernelspec": {
   "display_name": "Python 2",
   "language": "python",
   "name": "python2"
  },
  "language_info": {
   "codemirror_mode": {
    "name": "ipython",
    "version": 2.0
   },
   "file_extension": ".py",
   "mimetype": "text/x-python",
   "name": "python",
   "nbconvert_exporter": "python",
   "pygments_lexer": "ipython2",
   "version": "2.7.9"
  }
 },
 "nbformat": 4,
 "nbformat_minor": 0
}