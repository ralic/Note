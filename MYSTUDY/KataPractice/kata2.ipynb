{
 "cells": [
  {
   "cell_type": "code",
   "execution_count": 2,
   "metadata": {
    "collapsed": false
   },
   "outputs": [],
   "source": [
    "# metaclass\n",
    "class Bar(object):\n",
    "    pass\n",
    "b = Bar()"
   ]
  },
  {
   "cell_type": "code",
   "execution_count": 3,
   "metadata": {
    "collapsed": false
   },
   "outputs": [
    {
     "data": {
      "text/plain": [
       "__main__.Bar"
      ]
     },
     "execution_count": 3,
     "metadata": {},
     "output_type": "execute_result"
    }
   ],
   "source": [
    "b.__class__"
   ]
  },
  {
   "cell_type": "code",
   "execution_count": 4,
   "metadata": {
    "collapsed": false
   },
   "outputs": [
    {
     "data": {
      "text/plain": [
       "type"
      ]
     },
     "execution_count": 4,
     "metadata": {},
     "output_type": "execute_result"
    }
   ],
   "source": [
    "# Bar的基类是type，type是元类\n",
    "b.__class__.__class__"
   ]
  },
  {
   "cell_type": "code",
   "execution_count": 5,
   "metadata": {
    "collapsed": false
   },
   "outputs": [
    {
     "data": {
      "text/plain": [
       "type"
      ]
     },
     "execution_count": 5,
     "metadata": {},
     "output_type": "execute_result"
    }
   ],
   "source": [
    "# 元类type是所有类的基类\n",
    "int.__class__"
   ]
  },
  {
   "cell_type": "code",
   "execution_count": 26,
   "metadata": {
    "collapsed": false
   },
   "outputs": [
    {
     "name": "stdout",
     "output_type": "stream",
     "text": [
      "[1, 3, 2, 4, 9, 8, 7, 5, 6]\n",
      "[5, 7, 9, 2, 6, 1, 3, 8, 4]\n",
      "[4, 6, 8, 3, 7, 5, 2, 1, 9]\n",
      "[6, 4, 3, 5, 2, 1, 9, 8, 7]\n",
      "[1, 5, 8, 7, 9, 3, 4, 2, 6]\n",
      "[7, 9, 2, 8, 4, 6, 5, 3, 1]\n",
      "[2, 1, 4, 3, 6, 5, 8, 7, 9]\n",
      "[9, 3, 5, 8, 1, 7, 6, 4, 2]\n",
      "[6, 8, 7, 9, 2, 4, 1, 5, 3]\n"
     ]
    },
    {
     "data": {
      "text/plain": [
       "'Finish'"
      ]
     },
     "execution_count": 26,
     "metadata": {},
     "output_type": "execute_result"
    }
   ],
   "source": [
    "soduku = [[1, 3, 2, 5, 7, 9, 4, 6, 8]\n",
    "         ,[4, 9, 8, 2, 6, 1, 3, 7, 5]\n",
    "         ,[7, 5, 6, 3, 8, 4, 2, 1, 9]\n",
    "         ,[6, 4, 3, 1, 5, 8, 7, 9, 2]\n",
    "         ,[5, 2, 1, 7, 9, 3, 8, 4, 6]\n",
    "         ,[9, 8, 7, 4, 2, 6, 5, 3, 1]\n",
    "         ,[2, 1, 4, 9, 3, 5, 6, 8, 7]\n",
    "         ,[3, 6, 5, 8, 1, 7, 9, 2, 4]\n",
    "         ,[8, 7, 9, 6, 4, 2, 1, 5, 3]]\n",
    "\n",
    "def check_success(lst):\n",
    "    return sorted(lst) == range(1, 10)\n",
    "\n",
    "def do(board):\n",
    "    result1, result2, result3 = [], [], []\n",
    "    for row in board:\n",
    "        result1.extend(row[:3])\n",
    "        result2.extend(row[3:6])\n",
    "        result3.extend(row[6:9])\n",
    "    if not check_success(result1) and not check_success(result2) and not check_success(result3):\n",
    "        return False\n",
    "    else:\n",
    "        return True\n",
    "    \n",
    "def done_or_not(board):\n",
    "    success = range(1, 10)\n",
    "    for index, row in enumerate(board):\n",
    "        if not check_success(row):\n",
    "            return \"Failed\"\n",
    "        if index in [0, 3, 6]:\n",
    "            if not do(board[index: index+3]):\n",
    "                return \"Failed\"\n",
    "    for col in zip(*soduku):\n",
    "        if not check_success(col):\n",
    "            return \"Failed\" \n",
    "    return \"Finish\"\n",
    "done_or_not(soduku)\n"
   ]
  },
  {
   "cell_type": "code",
   "execution_count": null,
   "metadata": {
    "collapsed": true
   },
   "outputs": [],
   "source": [
    "def luck_check(string):\n",
    "    try:\n",
    "        int(string)\n",
    "    except:\n",
    "        raise ValueError\n",
    "    l = len(string)\n",
    "    if len(string) % 2 == 0:\n",
    "        return sum([int(i) for i in string[:l/2]]) == sum([int(i) for i in string[l/2:]])\n",
    "    else:\n",
    "        return sum([int(i) for i in string[:l/2]]) == sum([int(i) for i in string[l/2 + 1:]])"
   ]
  },
  {
   "cell_type": "code",
   "execution_count": 50,
   "metadata": {
    "collapsed": false
   },
   "outputs": [
    {
     "name": "stdout",
     "output_type": "stream",
     "text": [
      "{2: 4, 6: 2}\n"
     ]
    },
    {
     "data": {
      "text/plain": [
       "'Zonk'"
      ]
     },
     "execution_count": 50,
     "metadata": {},
     "output_type": "execute_result"
    }
   ],
   "source": [
    "def get_score(dice): \n",
    "    score = 0\n",
    "    dct = {}\n",
    "    for num in dice:\n",
    "        dct.setdefault(num, 0)\n",
    "        dct[num] += 1\n",
    "    print dct\n",
    "    return score or \"Zonk\"\n",
    "get_score([2,2,6,6,2,2])"
   ]
  },
  {
   "cell_type": "code",
   "execution_count": null,
   "metadata": {
    "collapsed": true
   },
   "outputs": [],
   "source": [
    "s = ['L']\n",
    "for i in range(1, 3):\n",
    "    for j, k in enumerate(s):\n",
    "        s.extend(k.ljust(2**i) + k)\n",
    "print '\\n'.join(s)"
   ]
  },
  {
   "cell_type": "code",
   "execution_count": 1,
   "metadata": {
    "collapsed": false
   },
   "outputs": [],
   "source": [
    "def isprime(m): \n",
    "    #质数是指只能被1和它本身整除的数  \n",
    "    for i in range(2, int(m/2+1)): \n",
    "        if m % i == 0: \n",
    "            return False \n",
    "    return True \n",
    "def prime(m):\n",
    "    for i in xrange(2, m+1):\n",
    "        if isprime(i):\n",
    "            yield i\n",
    "\n",
    "def primeFactors(n):\n",
    "    num = n\n",
    "    result = {}\n",
    "    p = prime(n)\n",
    "    base = p.next()\n",
    "    while num != 1:\n",
    "        print num, base\n",
    "        if num % base == 0:\n",
    "            result.setdefault(base, 0)\n",
    "            result[base] += 1\n",
    "            num /= base\n",
    "        else:\n",
    "            base = p.next()\n",
    "    return \"\".join([\"(%d**%d)\" % (key, result[key]) if result[key] != 1 else \"(%d)\" % key  for key in sorted(result.keys())])\n"
   ]
  },
  {
   "cell_type": "code",
   "execution_count": 3,
   "metadata": {
    "collapsed": true
   },
   "outputs": [],
   "source": [
    "# autopy--> mouse/ screen/ \n",
    "import autopy\n",
    "# 鼠标滑动到坐标（1， 1）\n",
    "autopy.mouse.smooth_move(1, 1)"
   ]
  },
  {
   "cell_type": "code",
   "execution_count": 4,
   "metadata": {
    "collapsed": true
   },
   "outputs": [],
   "source": [
    "# 鼠标瞬间移动到坐标（1， 1）\n",
    "autopy.mouse.move(1, 1)"
   ]
  },
  {
   "cell_type": "code",
   "execution_count": 5,
   "metadata": {
    "collapsed": false
   },
   "outputs": [
    {
     "data": {
      "text/plain": [
       "(1920, 1080)"
      ]
     },
     "execution_count": 5,
     "metadata": {},
     "output_type": "execute_result"
    }
   ],
   "source": [
    "# 获得屏幕的分辨率， a tuple\n",
    "autopy.screen.get_size()"
   ]
  },
  {
   "cell_type": "code",
   "execution_count": 7,
   "metadata": {
    "collapsed": false
   },
   "outputs": [],
   "source": [
    "# 截屏\n",
    "autopy.bitmap.capture_screen().save('screengrap.png')"
   ]
  },
  {
   "cell_type": "code",
   "execution_count": 8,
   "metadata": {
    "collapsed": false
   },
   "outputs": [
    {
     "data": {
      "text/plain": [
       "['CENTER_BUTTON',\n",
       " 'LEFT_BUTTON',\n",
       " 'RIGHT_BUTTON',\n",
       " '__builtins__',\n",
       " '__doc__',\n",
       " '__file__',\n",
       " '__name__',\n",
       " '__package__',\n",
       " 'click',\n",
       " 'get_pos',\n",
       " 'move',\n",
       " 'smooth_move',\n",
       " 'toggle']"
      ]
     },
     "execution_count": 8,
     "metadata": {},
     "output_type": "execute_result"
    }
   ],
   "source": [
    "# 鼠标的方法\n",
    "dir(autopy.mouse)"
   ]
  },
  {
   "cell_type": "code",
   "execution_count": 12,
   "metadata": {
    "collapsed": false
   },
   "outputs": [
    {
     "data": {
      "text/plain": [
       "(410, 270)"
      ]
     },
     "execution_count": 12,
     "metadata": {},
     "output_type": "execute_result"
    }
   ],
   "source": [
    "# 获得鼠标当前位置\n",
    "autopy.mouse.get_pos()"
   ]
  },
  {
   "cell_type": "code",
   "execution_count": 14,
   "metadata": {
    "collapsed": true
   },
   "outputs": [],
   "source": [
    "# 单机鼠标左键\n",
    "autopy.mouse.click(button=LEFT_BUTTON)"
   ]
  },
  {
   "cell_type": "code",
   "execution_count": 15,
   "metadata": {
    "collapsed": true
   },
   "outputs": [],
   "source": [
    "autopy.mouse.toggle(True, button=LEFT_BUTTON)  # 按下左键\n",
    "autopy.mouse.toggle(False, button=LEFT_BUTTON)  # 松开左键"
   ]
  },
  {
   "cell_type": "code",
   "execution_count": 19,
   "metadata": {
    "collapsed": false
   },
   "outputs": [
    {
     "ename": "ValueError",
     "evalue": "Point out of bounds",
     "output_type": "error",
     "traceback": [
      "\u001b[1;31m---------------------------------------------------------------------------\u001b[0m",
      "\u001b[1;31mValueError\u001b[0m                                Traceback (most recent call last)",
      "\u001b[1;32m<ipython-input-19-9e1e4d5474db>\u001b[0m in \u001b[0;36m<module>\u001b[1;34m()\u001b[0m\n\u001b[0;32m      9\u001b[0m         \u001b[0msleep\u001b[0m\u001b[1;33m(\u001b[0m\u001b[1;36m0.5\u001b[0m\u001b[1;33m)\u001b[0m\u001b[1;33m\u001b[0m\u001b[0m\n\u001b[0;32m     10\u001b[0m         \u001b[0mtimes\u001b[0m \u001b[1;33m-=\u001b[0m \u001b[0mrandom\u001b[0m\u001b[1;33m.\u001b[0m\u001b[0mrandint\u001b[0m\u001b[1;33m(\u001b[0m\u001b[1;36m1\u001b[0m\u001b[1;33m,\u001b[0m \u001b[1;36m10\u001b[0m\u001b[1;33m)\u001b[0m\u001b[1;33m\u001b[0m\u001b[0m\n\u001b[1;32m---> 11\u001b[1;33m \u001b[0mcircle\u001b[0m\u001b[1;33m(\u001b[0m\u001b[1;33m)\u001b[0m\u001b[1;33m\u001b[0m\u001b[0m\n\u001b[0m",
      "\u001b[1;32m<ipython-input-19-9e1e4d5474db>\u001b[0m in \u001b[0;36mcircle\u001b[1;34m()\u001b[0m\n\u001b[0;32m      6\u001b[0m     \u001b[1;32mwhile\u001b[0m \u001b[0mtimes\u001b[0m \u001b[1;33m>\u001b[0m \u001b[1;36m0\u001b[0m\u001b[1;33m:\u001b[0m\u001b[1;33m\u001b[0m\u001b[0m\n\u001b[0;32m      7\u001b[0m         \u001b[0mx\u001b[0m\u001b[1;33m,\u001b[0m \u001b[0my\u001b[0m \u001b[1;33m=\u001b[0m \u001b[0mrandom\u001b[0m\u001b[1;33m.\u001b[0m\u001b[0mrandint\u001b[0m\u001b[1;33m(\u001b[0m\u001b[1;36m1\u001b[0m\u001b[1;33m,\u001b[0m \u001b[0mlimitx\u001b[0m\u001b[1;33m)\u001b[0m\u001b[1;33m,\u001b[0m \u001b[0mrandom\u001b[0m\u001b[1;33m.\u001b[0m\u001b[0mrandint\u001b[0m\u001b[1;33m(\u001b[0m\u001b[1;36m1\u001b[0m\u001b[1;33m,\u001b[0m \u001b[0mlimity\u001b[0m\u001b[1;33m)\u001b[0m\u001b[1;33m\u001b[0m\u001b[0m\n\u001b[1;32m----> 8\u001b[1;33m         \u001b[0mautopy\u001b[0m\u001b[1;33m.\u001b[0m\u001b[0mmouse\u001b[0m\u001b[1;33m.\u001b[0m\u001b[0msmooth_move\u001b[0m\u001b[1;33m(\u001b[0m\u001b[0mx\u001b[0m\u001b[1;33m,\u001b[0m \u001b[0my\u001b[0m\u001b[1;33m)\u001b[0m\u001b[1;33m\u001b[0m\u001b[0m\n\u001b[0m\u001b[0;32m      9\u001b[0m         \u001b[0msleep\u001b[0m\u001b[1;33m(\u001b[0m\u001b[1;36m0.5\u001b[0m\u001b[1;33m)\u001b[0m\u001b[1;33m\u001b[0m\u001b[0m\n\u001b[0;32m     10\u001b[0m         \u001b[0mtimes\u001b[0m \u001b[1;33m-=\u001b[0m \u001b[0mrandom\u001b[0m\u001b[1;33m.\u001b[0m\u001b[0mrandint\u001b[0m\u001b[1;33m(\u001b[0m\u001b[1;36m1\u001b[0m\u001b[1;33m,\u001b[0m \u001b[1;36m10\u001b[0m\u001b[1;33m)\u001b[0m\u001b[1;33m\u001b[0m\u001b[0m\n",
      "\u001b[1;31mValueError\u001b[0m: Point out of bounds"
     ]
    }
   ],
   "source": [
    "import random\n",
    "from time import sleep\n",
    "def circle():\n",
    "    limitx, limity = autopy.screen.get_size()\n",
    "    times = 20000\n",
    "    while times > 0:\n",
    "        x, y = random.randint(1, limitx), random.randint(1, limity)\n",
    "        autopy.mouse.smooth_move(x, y)\n",
    "        sleep(0.5)\n",
    "        times -= random.randint(1, 10)\n",
    "circle()"
   ]
  },
  {
   "cell_type": "code",
   "execution_count": null,
   "metadata": {
    "collapsed": true
   },
   "outputs": [],
   "source": []
  }
 ],
 "metadata": {
  "kernelspec": {
   "display_name": "Python 2",
   "language": "python",
   "name": "python2"
  },
  "language_info": {
   "codemirror_mode": {
    "name": "ipython",
    "version": 2
   },
   "file_extension": ".py",
   "mimetype": "text/x-python",
   "name": "python",
   "nbconvert_exporter": "python",
   "pygments_lexer": "ipython2",
   "version": "2.7.9"
  }
 },
 "nbformat": 4,
 "nbformat_minor": 0
}
