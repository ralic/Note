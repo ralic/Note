{
 "cells": [
  {
   "cell_type": "code",
   "execution_count": 9,
   "metadata": {
    "collapsed": true
   },
   "outputs": [],
   "source": [
    "# 定义栈\n",
    "class CWStack(object):\n",
    "    def __init__(self):\n",
    "        self.stack = []\n",
    "        \n",
    "    def isEmpty(self):\n",
    "        return len(self.stack) == 0\n",
    "    \n",
    "    def push(self, element):\n",
    "        self.stack.append(element)\n",
    "        \n",
    "    def pop(self):\n",
    "        if self.isEmpty() is not None:\n",
    "            return self.stack.pop()\n",
    "    def top(self):\n",
    "        if self.isEmpty():\n",
    "            return \n",
    "        return self.stack[-1]\n",
    "    \n",
    "    def __str__(self):\n",
    "        return \"Stack of size: %d\" % len(self.stack)\n",
    "        \n",
    "def reverse_str(s, stack):\n",
    "    result = \"\"\n",
    "    for element in s:\n",
    "        stack.push(element)\n",
    "    while not stack.isEmpty():\n",
    "        result += stack.pop()\n",
    "    return result\n"
   ]
  },
  {
   "cell_type": "code",
   "execution_count": 10,
   "metadata": {
    "collapsed": false
   },
   "outputs": [
    {
     "data": {
      "text/plain": [
       "'olleh'"
      ]
     },
     "execution_count": 10,
     "metadata": {},
     "output_type": "execute_result"
    }
   ],
   "source": [
    "s = CWStack()\n",
    "s.isEmpty()\n",
    "s.push(10)\n",
    "s.top()\n",
    "s.pop()\n",
    "s.__str__()\n",
    "reverse_str('hello', CWStack())"
   ]
  },
  {
   "cell_type": "code",
   "execution_count": 11,
   "metadata": {
    "collapsed": true
   },
   "outputs": [],
   "source": [
    "\"\"\"\n",
    "Find the length of the longest substring in the given string s that is the same in reverse.\n",
    "\n",
    "As an example, if the input was “I like racecars that go fast”, the substring length would be 7.\n",
    "\"\"\"\n",
    "def longest_palindrome (s):\n",
    "    pass"
   ]
  },
  {
   "cell_type": "code",
   "execution_count": 36,
   "metadata": {
    "collapsed": false
   },
   "outputs": [],
   "source": [
    "\"\"\"\n",
    "Attention Agent.\n",
    "\n",
    "The White House is currently developing a mobile app that it can use to issue instructions to it's undercover agents.\n",
    "\n",
    "Part of the functionality of this app is to have messages that can be read only once, and are then destroyed.\n",
    "\n",
    "As our best undercover developer, we need you to implement a SecureList class that will deliver this functionality.\n",
    "\n",
    "Behaviour different to the traditional list is outlined below:\n",
    "\"\"\"\n",
    "class SecureList():\n",
    "    def __init__(self, base):\n",
    "        self.base = base[:]\n",
    "    \n",
    "    def __str__(self):\n",
    "        result = str(self.base)\n",
    "        self.base = []\n",
    "        return result\n",
    "    \n",
    "    def __getitem__(self, item):\n",
    "        return self.base.pop(item)\n",
    "    \n",
    "    def __repr__(self):\n",
    "        return self.__str__()\n",
    "    \n",
    "    def __len__(self):\n",
    "        return len(self.base)\n",
    "\n",
    "base=[1,2,3,4]\n",
    "a=SecureList(base)"
   ]
  },
  {
   "cell_type": "code",
   "execution_count": 37,
   "metadata": {
    "collapsed": false
   },
   "outputs": [
    {
     "name": "stdout",
     "output_type": "stream",
     "text": [
      "1\n",
      "[2,3,4]\n"
     ]
    }
   ],
   "source": [
    "print a[0]\n",
    "print a"
   ]
  },
  {
   "cell_type": "code",
   "execution_count": 28,
   "metadata": {
    "collapsed": false
   },
   "outputs": [
    {
     "name": "stdout",
     "output_type": "stream",
     "text": [
      "[1,2,3,4]\n",
      "[]\n"
     ]
    }
   ],
   "source": [
    "messages=SecureList([1,2,3,4])\n",
    "print messages     # prints [1,2,3,4]\n",
    "print messages     # prints []"
   ]
  },
  {
   "cell_type": "code",
   "execution_count": 30,
   "metadata": {
    "collapsed": false
   },
   "outputs": [
    {
     "name": "stdout",
     "output_type": "stream",
     "text": [
      "my messages are: [1,2,3,4].\n",
      "[]\n"
     ]
    }
   ],
   "source": [
    "messages=SecureList([1,2,3,4])\n",
    "print \"my messages are: %r.\"%messages     # prints \"my messages are: [1,2,3,4].\n",
    "print messages     # prints []"
   ]
  },
  {
   "cell_type": "code",
   "execution_count": null,
   "metadata": {
    "collapsed": true
   },
   "outputs": [],
   "source": []
  }
 ],
 "metadata": {
  "kernelspec": {
   "display_name": "Python 2",
   "language": "python",
   "name": "python2"
  },
  "language_info": {
   "codemirror_mode": {
    "name": "ipython",
    "version": 2
   },
   "file_extension": ".py",
   "mimetype": "text/x-python",
   "name": "python",
   "nbconvert_exporter": "python",
   "pygments_lexer": "ipython2",
   "version": "2.7.9"
  }
 },
 "nbformat": 4,
 "nbformat_minor": 0
}
