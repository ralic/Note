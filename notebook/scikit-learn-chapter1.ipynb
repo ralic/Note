{
 "cells": [
  {
   "cell_type": "code",
   "execution_count": 2,
   "metadata": {
    "collapsed": true
   },
   "outputs": [],
   "source": [
    "from sklearn import datasets\n",
    "import numpy as np"
   ]
  },
  {
   "cell_type": "code",
   "execution_count": 3,
   "metadata": {
    "collapsed": true
   },
   "outputs": [
    {
     "name": "stdout",
     "output_type": "stream",
     "text": [
      "Boston House Prices dataset\n",
      "\n",
      "Notes\n",
      "------\n",
      "Data Set Characteristics:  \n",
      "\n",
      "    :Number of Instances: 506 \n",
      "\n",
      "    :Number of Attributes: 13 numeric/categorical predictive\n",
      "    \n",
      "    :Median Value (attribute 14) is usually the target\n",
      "\n",
      "    :Attribute Information (in order):\n",
      "        - CRIM     per capita crime rate by town\n",
      "        - ZN       proportion of residential land zoned for lots over 25,000 sq.ft.\n",
      "        - INDUS    proportion of non-retail business acres per town\n",
      "        - CHAS     Charles River dummy variable (= 1 if tract bounds river; 0 otherwise)\n",
      "        - NOX      nitric oxides concentration (parts per 10 million)\n",
      "        - RM       average number of rooms per dwelling\n",
      "        - AGE      proportion of owner-occupied units built prior to 1940\n",
      "        - DIS      weighted distances to five Boston employment centres\n",
      "        - RAD      index of accessibility to radial highways\n",
      "        - TAX      full-value property-tax rate per $10,000\n",
      "        - PTRATIO  pupil-teacher ratio by town\n",
      "        - B        1000(Bk - 0.63)^2 where Bk is the proportion of blacks by town\n",
      "        - LSTAT    % lower status of the population\n",
      "        - MEDV     Median value of owner-occupied homes in $1000's\n",
      "\n",
      "    :Missing Attribute Values: None\n",
      "\n",
      "    :Creator: Harrison, D. and Rubinfeld, D.L.\n",
      "\n",
      "This is a copy of UCI ML housing dataset.\n",
      "http://archive.ics.uci.edu/ml/datasets/Housing\n",
      "\n",
      "\n",
      "This dataset was taken from the StatLib library which is maintained at Carnegie Mellon University.\n",
      "\n",
      "The Boston house-price data of Harrison, D. and Rubinfeld, D.L. 'Hedonic\n",
      "prices and the demand for clean air', J. Environ. Economics & Management,\n",
      "vol.5, 81-102, 1978.   Used in Belsley, Kuh & Welsch, 'Regression diagnostics\n",
      "...', Wiley, 1980.   N.B. Various transformations are used in the table on\n",
      "pages 244-261 of the latter.\n",
      "\n",
      "The Boston house-price data has been used in many machine learning papers that address regression\n",
      "problems.   \n",
      "     \n",
      "**References**\n",
      "\n",
      "   - Belsley, Kuh & Welsch, 'Regression diagnostics: Identifying Influential Data and Sources of Collinearity', Wiley, 1980. 244-261.\n",
      "   - Quinlan,R. (1993). Combining Instance-Based and Model-Based Learning. In Proceedings on the Tenth International Conference of Machine Learning, 236-243, University of Massachusetts, Amherst. Morgan Kaufmann.\n",
      "   - many more! (see http://archive.ics.uci.edu/ml/datasets/Housing)\n",
      "\n"
     ]
    }
   ],
   "source": [
    "# 载入boston数据集，打印数据集的描述信息.获得数据集使用load_*函数\n",
    "boston = datasets.load_boston()\n",
    "print boston.DESCR"
   ]
  },
  {
   "cell_type": "code",
   "execution_count": 5,
   "metadata": {
    "collapsed": false
   },
   "outputs": [
    {
     "data": {
      "text/plain": [
       "sklearn.datasets.base.Bunch"
      ]
     },
     "execution_count": 5,
     "metadata": {},
     "output_type": "execute_result"
    }
   ],
   "source": [
    "# 默认为Bunch类型，本质上是个字典，但是可以把keys作为属性来访问。\n",
    "type(boston)"
   ]
  },
  {
   "cell_type": "code",
   "execution_count": 4,
   "metadata": {
    "collapsed": false
   },
   "outputs": [
    {
     "data": {
      "text/plain": [
       "array([[  6.32000000e-03,   1.80000000e+01,   2.31000000e+00, ...,\n",
       "          1.53000000e+01,   3.96900000e+02,   4.98000000e+00],\n",
       "       [  2.73100000e-02,   0.00000000e+00,   7.07000000e+00, ...,\n",
       "          1.78000000e+01,   3.96900000e+02,   9.14000000e+00],\n",
       "       [  2.72900000e-02,   0.00000000e+00,   7.07000000e+00, ...,\n",
       "          1.78000000e+01,   3.92830000e+02,   4.03000000e+00],\n",
       "       ..., \n",
       "       [  6.07600000e-02,   0.00000000e+00,   1.19300000e+01, ...,\n",
       "          2.10000000e+01,   3.96900000e+02,   5.64000000e+00],\n",
       "       [  1.09590000e-01,   0.00000000e+00,   1.19300000e+01, ...,\n",
       "          2.10000000e+01,   3.93450000e+02,   6.48000000e+00],\n",
       "       [  4.74100000e-02,   0.00000000e+00,   1.19300000e+01, ...,\n",
       "          2.10000000e+01,   3.96900000e+02,   7.88000000e+00]])"
      ]
     },
     "execution_count": 4,
     "metadata": {},
     "output_type": "execute_result"
    }
   ],
   "source": [
    "# 直接通过属性的方式访问\n",
    "x, y = boston.data, boston.target\n",
    "x"
   ]
  },
  {
   "cell_type": "code",
   "execution_count": 5,
   "metadata": {
    "collapsed": false
   },
   "outputs": [
    {
     "data": {
      "text/plain": [
       "array([[  6.32000000e-03,   1.80000000e+01,   2.31000000e+00, ...,\n",
       "          1.53000000e+01,   3.96900000e+02,   4.98000000e+00],\n",
       "       [  2.73100000e-02,   0.00000000e+00,   7.07000000e+00, ...,\n",
       "          1.78000000e+01,   3.96900000e+02,   9.14000000e+00],\n",
       "       [  2.72900000e-02,   0.00000000e+00,   7.07000000e+00, ...,\n",
       "          1.78000000e+01,   3.92830000e+02,   4.03000000e+00],\n",
       "       ..., \n",
       "       [  6.07600000e-02,   0.00000000e+00,   1.19300000e+01, ...,\n",
       "          2.10000000e+01,   3.96900000e+02,   5.64000000e+00],\n",
       "       [  1.09590000e-01,   0.00000000e+00,   1.19300000e+01, ...,\n",
       "          2.10000000e+01,   3.93450000e+02,   6.48000000e+00],\n",
       "       [  4.74100000e-02,   0.00000000e+00,   1.19300000e+01, ...,\n",
       "          2.10000000e+01,   3.96900000e+02,   7.88000000e+00]])"
      ]
     },
     "execution_count": 5,
     "metadata": {},
     "output_type": "execute_result"
    }
   ],
   "source": [
    "# 通过字典默认的方式访问\n",
    "boston['data']"
   ]
  },
  {
   "cell_type": "code",
   "execution_count": 8,
   "metadata": {
    "collapsed": true
   },
   "outputs": [],
   "source": [
    "# Bunch 内部实现\n",
    "class Bunch(dict):\n",
    "    def __init__(self, **kwargs):\n",
    "        dict.__init__(self, kwargs)\n",
    "        self.__dict__ = self  # 属性字典等于该字典本身"
   ]
  },
  {
   "cell_type": "code",
   "execution_count": 9,
   "metadata": {
    "collapsed": false
   },
   "outputs": [
    {
     "data": {
      "text/plain": [
       "'c:/Users/admin\\\\scikit_learn_data'"
      ]
     },
     "execution_count": 9,
     "metadata": {},
     "output_type": "execute_result"
    }
   ],
   "source": [
    "# 获得数据集默认存储的地址\n",
    "datasets.get_data_home()"
   ]
  },
  {
   "cell_type": "code",
   "execution_count": 11,
   "metadata": {
    "collapsed": false,
    "scrolled": true
   },
   "outputs": [
    {
     "data": {
      "text/plain": [
       "{'TMP': 'C:/Users/admin/AppData/Local/Temp', 'COMPUTERNAME': 'ADMIN-PC', 'INPUTRC': 'C:/Program Files (x86)/Git/etc/inputrc', 'HISTFILE': 'c:/Users/admin/.bash_history', 'GNUPGHOME': 'c:/Users/admin/.gnupg', 'PSMODULEPATH': 'C:\\\\Windows\\\\system32\\\\WindowsPowerShell\\\\v1.0\\\\Modules\\\\', 'COMMONPROGRAMFILES': 'C:\\\\Program Files (x86)\\\\Common Files', 'PROCESSOR_IDENTIFIER': 'Intel64 Family 6 Model 60 Stepping 3, GenuineIntel', 'LOGNAME': 'admin', 'PROGRAMFILES': 'C:\\\\Program Files (x86)', 'PROCESSOR_REVISION': '3c03', 'HOME': 'c:/Users/admin', 'TK_LIBRARY': 'C:\\\\Python27\\\\tcl\\\\tk8.5', 'PATH': 'c:\\\\Users\\\\admin\\\\bin;.;C:\\\\Program Files (x86)\\\\Git\\\\local\\\\bin;C:\\\\Program Files (x86)\\\\Git\\\\mingw\\\\bin;C:\\\\Program Files (x86)\\\\Git\\\\bin;C:\\\\Program Files (x86)\\\\Git\\\\bin;c:\\\\Program Files (x86)\\\\Haskell\\\\bin;c:\\\\Program Files (x86)\\\\Haskell Platform\\\\2014.2.0.0\\\\lib\\\\extralibs\\\\bin;c:\\\\Program Files (x86)\\\\Haskell Platform\\\\2014.2.0.0\\\\bin;c:\\\\Program Files (x86)\\\\Common Files\\\\NetSarang;c:\\\\Program Files (x86)\\\\Intel\\\\iCLS Client\\\\;c:\\\\Program Files\\\\Intel\\\\iCLS Client\\\\;c:\\\\Windows\\\\system32;c:\\\\Windows;c:\\\\Windows\\\\System32\\\\Wbem;c:\\\\Windows\\\\System32\\\\WindowsPowerShell\\\\v1.0\\\\;c:\\\\Program Files\\\\Intel\\\\Intel(R) Management Engine Components\\\\DAL;c:\\\\Program Files\\\\Intel\\\\Intel(R) Management Engine Components\\\\IPT;c:\\\\Program Files (x86)\\\\Intel\\\\Intel(R) Management Engine Components\\\\DAL;c:\\\\Program Files (x86)\\\\Intel\\\\Intel(R) Management Engine Components\\\\IPT;c:\\\\Python27;c:\\\\Python27\\\\Scripts;C:\\\\Program Files (x86)\\\\Git\\\\cmd;C:\\\\Program Files (x86)\\\\Git\\\\bin;c:\\\\OpenSSL-Win32\\\\bin;c:\\\\vcredist;c:\\\\Python27\\\\Lib;c:\\\\Program Files\\\\Microsoft\\\\Web Platform Installer\\\\;c:\\\\Program Files (x86)\\\\Microsoft ASP.NET\\\\ASP.NET Web Pages\\\\v1.0\\\\;c:\\\\Program Files (x86)\\\\Windows Kits\\\\8.0\\\\Windows Performance Toolkit\\\\;c:\\\\Program Files\\\\Microsoft SQL Server\\\\110\\\\Tools\\\\Binn\\\\;c:\\\\Program Files (x86)\\\\Microsoft Visual Studio 11.0\\\\Common7\\\\Tools;c:\\\\Python27;c:\\\\Python27\\\\Scripts;c:\\\\Program Files (x86)\\\\Tesseract-OCR;c:\\\\Program Files (x86)\\\\Haskell Platform\\\\2014.2.0.0\\\\mingw\\\\bin;c:\\\\Program Files (x86)\\\\Haskell Platform\\\\2014.2.0.0\\\\bin;c:\\\\Program Files\\\\MongoDB\\\\Server\\\\3.0\\\\bin;c:\\\\Users\\\\admin\\\\AppData\\\\Roaming\\\\cabal\\\\bin', 'CLICOLOR': '1', 'PROGRAMFILES(X86)': 'C:\\\\Program Files (x86)', 'MSYSTEM': 'MINGW32', 'MAKE_MODE': 'unix', 'TERM': 'xterm-color', 'TESSDATA_PREFIX': 'C:\\\\Program Files (x86)\\\\Tesseract-OCR\\\\', 'TEMP': 'C:/Users/admin/AppData/Local/Temp', 'PLINK_PROTOCOL': 'ssh', 'SHLVL': '2', 'COMMONPROGRAMFILES(X86)': 'C:\\\\Program Files (x86)\\\\Common Files', 'USERDOMAIN': 'admin-PC', 'PROCESSOR_ARCHITECTURE': 'x86', 'TIX_LIBRARY': 'C:\\\\Python27\\\\tcl\\\\tix8.4.3', 'ALLUSERSPROFILE': 'C:\\\\ProgramData', 'LESS': '-FRSX', 'LOCALAPPDATA': 'C:\\\\Users\\\\admin\\\\AppData\\\\Local', 'HOMEPATH': '\\\\Users\\\\admin', 'JPY_INTERRUPT_EVENT': '820', 'PROGRAMW6432': 'C:\\\\Program Files', 'USERNAME': 'admin', 'LOGONSERVER': '\\\\\\\\ADMIN-PC', 'SYSTEMROOT': 'C:\\\\Windows', 'WINDOWS_TRACING_FLAGS': '3', 'JPY_PARENT_PID': '548', 'PROGRAMDATA': 'C:\\\\ProgramData', 'TCL_LIBRARY': 'C:\\\\Python27\\\\tcl\\\\tcl8.5', 'PROMPT': '$P$G', 'VS110COMNTOOLS': 'C:\\\\Program Files (x86)\\\\Microsoft Visual Studio 11.0\\\\Common7\\\\Tools\\\\', 'GIT_PAGER': 'cat', 'LESSCHARSET': 'utf-8', 'PATHEXT': '.COM;.EXE;.BAT;.CMD;.VBS;.VBE;.JS;.JSE;.WSF;.WSH;.MSC', '_': 'c:/Python27/Scripts/ipython', 'FP_NO_HOST_CHECK': 'NO', 'WINDIR': 'C:\\\\Windows', 'WINDOWS_TRACING_LOGFILE': 'C:\\\\BVTBin\\\\Tests\\\\installpackage\\\\csilogfile.log', 'HOMEDRIVE': 'C:', 'PAGER': 'cat', 'SYSTEMDRIVE': 'C:', 'COMSPEC': 'C:\\\\Windows\\\\system32\\\\cmd.exe', 'NUMBER_OF_PROCESSORS': '4', 'APPDATA': 'C:\\\\Users\\\\admin\\\\AppData\\\\Roaming', 'PWD': 'c:/gitGitgit/Note/notebook', 'PROCESSOR_LEVEL': '6', 'PROCESSOR_ARCHITEW6432': 'AMD64', 'COMMONPROGRAMW6432': 'C:\\\\Program Files\\\\Common Files', 'OS': 'Windows_NT', 'PUBLIC': 'C:\\\\Users\\\\Public', 'IPY_INTERRUPT_EVENT': '820', 'USERPROFILE': 'C:\\\\Users\\\\admin'}"
      ]
     },
     "execution_count": 11,
     "metadata": {},
     "output_type": "execute_result"
    }
   ],
   "source": [
    "# 获得环境变量,可以通过设置SCIKIT_LEARN_DATA环境变量，设定数据集的存储地址\n",
    "import os\n",
    "os.environ"
   ]
  },
  {
   "cell_type": "code",
   "execution_count": 12,
   "metadata": {
    "collapsed": true
   },
   "outputs": [],
   "source": [
    "# 创建数据集，使用make_*函数\n",
    "datasets.make_*?"
   ]
  },
  {
   "cell_type": "code",
   "execution_count": 14,
   "metadata": {
    "collapsed": false
   },
   "outputs": [],
   "source": [
    "# stalwart—regression\n",
    "reg_data = datasets.make_regression()"
   ]
  },
  {
   "cell_type": "code",
   "execution_count": null,
   "metadata": {
    "collapsed": true
   },
   "outputs": [],
   "source": []
  },
  {
   "cell_type": "code",
   "execution_count": null,
   "metadata": {
    "collapsed": true
   },
   "outputs": [],
   "source": []
  },
  {
   "cell_type": "code",
   "execution_count": null,
   "metadata": {
    "collapsed": true
   },
   "outputs": [],
   "source": []
  }
 ],
 "metadata": {
  "kernelspec": {
   "display_name": "Python 2",
   "language": "python",
   "name": "python2"
  },
  "language_info": {
   "codemirror_mode": {
    "name": "ipython",
    "version": 2
   },
   "file_extension": ".py",
   "mimetype": "text/x-python",
   "name": "python",
   "nbconvert_exporter": "python",
   "pygments_lexer": "ipython2",
   "version": "2.7.9"
  }
 },
 "nbformat": 4,
 "nbformat_minor": 0
}
