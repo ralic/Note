{
 "cells": [
  {
   "cell_type": "code",
   "execution_count": 4,
   "metadata": {
    "collapsed": false,
    "scrolled": true
   },
   "outputs": [
    {
     "name": "stdout",
     "output_type": "stream",
     "text": [
      "['__displayhook__', '__doc__', '__egginsert', '__excepthook__', '__name__', '__package__', '__plen', '__stderr__', '__stdin__', '__stdout__', '_clear_type_cache', '_current_frames', '_getframe', '_mercurial', 'api_version', 'argv', 'builtin_module_names', 'byteorder', 'call_tracing', 'callstats', 'copyright', 'displayhook', 'dllhandle', 'dont_write_bytecode', 'exc_clear', 'exc_info', 'exc_type', 'excepthook', 'exec_prefix', 'executable', 'exit', 'exitfunc', 'flags', 'float_info', 'float_repr_style', 'getcheckinterval', 'getdefaultencoding', 'getfilesystemencoding', 'getprofile', 'getrecursionlimit', 'getrefcount', 'getsizeof', 'gettrace', 'getwindowsversion', 'hexversion', 'long_info', 'maxint', 'maxsize', 'maxunicode', 'meta_path', 'modules', 'path', 'path_hooks', 'path_importer_cache', 'platform', 'prefix', 'ps1', 'ps2', 'ps3', 'py3kwarning', 'setcheckinterval', 'setprofile', 'setrecursionlimit', 'settrace', 'stderr', 'stdin', 'stdout', 'subversion', 'version', 'version_info', 'warnoptions', 'winver'] -> 72\n"
     ]
    }
   ],
   "source": [
    "# 打印sys内的模块、属性、对象\n",
    "import sys\n",
    "print dir(sys), \"->\", len(dir(sys))"
   ]
  },
  {
   "cell_type": "code",
   "execution_count": 9,
   "metadata": {
    "collapsed": false,
    "scrolled": true
   },
   "outputs": [
    {
     "name": "stdout",
     "output_type": "stream",
     "text": [
      "This module provides access to some objects used or maintained by the\n",
      "interpreter and to functions that interact strongly with the interpreter.\n",
      "\n",
      "Dynamic objects:\n",
      "\n",
      "argv -- command line arguments; argv[0] is the script pathname if known\n",
      "path -- module search path; path[0] is the script directory, else ''\n",
      "modules -- dictionary of loaded modules\n",
      "\n",
      "displayhook -- called to show results in an interactive session\n",
      "excepthook -- called to handle any uncaught exception other than SystemExit\n",
      "  To customize printing in an interactive session or to install a custom\n",
      "  top-level exception handler, assign other functions to replace these.\n",
      "\n",
      "exitfunc -- if sys.exitfunc exists, this routine is called when Python exits\n",
      "  Assigning to sys.exitfunc is deprecated; use the atexit module instead.\n",
      "\n",
      "stdin -- standard input file object; used by raw_input() and input()\n",
      "stdout -- standard output file object; used by the print statement\n",
      "stderr -- standard error object; used for error messages\n",
      "  By assigning other file objects (or objects that behave like files)\n",
      "  to these, it is possible to redirect all of the interpreter's I/O.\n",
      "\n",
      "last_type -- type of last uncaught exception\n",
      "last_value -- value of last uncaught exception\n",
      "last_traceback -- traceback of last uncaught exception\n",
      "  These three are only available in an interactive session after a\n",
      "  traceback has been printed.\n",
      "\n",
      "exc_type -- type of exception currently being handled\n",
      "exc_value -- value of exception currently being handled\n",
      "exc_traceback -- traceback of exception currently being handled\n",
      "  The function exc_info() should be used instead of these three,\n",
      "  because it is thread-safe.\n",
      "\n",
      "Static objects:\n",
      "\n",
      "float_info -- a dict with information about the float inplementation.\n",
      "long_info -- a struct sequence with information about the long implementation.\n",
      "maxint -- the largest supported integer (the smallest is -maxint-1)\n",
      "maxsize -- the largest supported length of containers.\n",
      "maxunicode -- the largest supported character\n",
      "builtin_module_names -- tuple of module names built into this interpreter\n",
      "version -- the version of this interpreter as a string\n",
      "version_info -- version information as a named tuple\n",
      "hexversion -- version information encoded as a single integer\n",
      "copyright -- copyright notice pertaining to this interpreter\n",
      "platform -- platform identifier\n",
      "executable -- absolute path of the executable binary of the Python interpreter\n",
      "prefix -- prefix used to find the Python library\n",
      "exec_prefix -- prefix used to find the machine-specific Python library\n",
      "float_repr_style -- string indicating the style of repr() output for floats\n",
      "dllhandle -- [Windows only] integer handle of the Python DLL\n",
      "winver -- [Windows only] version number of the Python DLL\n",
      "__stdin__ -- the original stdin; don't touch!\n",
      "__stdout__ -- the original stdout; don't touch!\n",
      "__stderr__ -- the original stderr; don't touch!\n",
      "__displayhook__ -- the original displayhook; don't touch!\n",
      "__excepthook__ -- the original excepthook; don't touch!\n",
      "\n",
      "Functions:\n",
      "\n",
      "displayhook() -- print an object to the screen, and save it in __builtin__._\n",
      "excepthook() -- print an exception and its traceback to sys.stderr\n",
      "exc_info() -- return thread-safe information about the current exception\n",
      "exc_clear() -- clear the exception state for the current thread\n",
      "exit() -- exit the interpreter by raising SystemExit\n",
      "getdlopenflags() -- returns flags to be used for dlopen() calls\n",
      "getprofile() -- get the global profiling function\n",
      "getrefcount() -- return the reference count for an object (plus one :-)\n",
      "getrecursionlimit() -- return the max recursion depth for the interpreter\n",
      "getsizeof() -- return the size of an object in bytes\n",
      "gettrace() -- get the global debug tracing function\n",
      "setcheckinterval() -- control how often the interpreter checks for events\n",
      "setdlopenflags() -- set the flags to be used for dlopen() calls\n",
      "setprofile() -- set the global profiling function\n",
      "setrecursionlimit() -- set the max recursion depth for the interpreter\n",
      "settrace() -- set the global debug tracing function\n",
      "\n"
     ]
    }
   ],
   "source": [
    "print sys.__doc__"
   ]
  },
  {
   "cell_type": "code",
   "execution_count": 10,
   "metadata": {
    "collapsed": false,
    "scrolled": true
   },
   "outputs": [
    {
     "name": "stdout",
     "output_type": "stream",
     "text": [
      "Help on built-in module sys:\n",
      "\n",
      "NAME\n",
      "    sys\n",
      "\n",
      "FILE\n",
      "    (built-in)\n",
      "\n",
      "MODULE DOCS\n",
      "    http://docs.python.org/library/sys\n",
      "\n",
      "DESCRIPTION\n",
      "    This module provides access to some objects used or maintained by the\n",
      "    interpreter and to functions that interact strongly with the interpreter.\n",
      "    \n",
      "    Dynamic objects:\n",
      "    \n",
      "    argv -- command line arguments; argv[0] is the script pathname if known\n",
      "    path -- module search path; path[0] is the script directory, else ''\n",
      "    modules -- dictionary of loaded modules\n",
      "    \n",
      "    displayhook -- called to show results in an interactive session\n",
      "    excepthook -- called to handle any uncaught exception other than SystemExit\n",
      "      To customize printing in an interactive session or to install a custom\n",
      "      top-level exception handler, assign other functions to replace these.\n",
      "    \n",
      "    exitfunc -- if sys.exitfunc exists, this routine is called when Python exits\n",
      "      Assigning to sys.exitfunc is deprecated; use the atexit module instead.\n",
      "    \n",
      "    stdin -- standard input file object; used by raw_input() and input()\n",
      "    stdout -- standard output file object; used by the print statement\n",
      "    stderr -- standard error object; used for error messages\n",
      "      By assigning other file objects (or objects that behave like files)\n",
      "      to these, it is possible to redirect all of the interpreter's I/O.\n",
      "    \n",
      "    last_type -- type of last uncaught exception\n",
      "    last_value -- value of last uncaught exception\n",
      "    last_traceback -- traceback of last uncaught exception\n",
      "      These three are only available in an interactive session after a\n",
      "      traceback has been printed.\n",
      "    \n",
      "    exc_type -- type of exception currently being handled\n",
      "    exc_value -- value of exception currently being handled\n",
      "    exc_traceback -- traceback of exception currently being handled\n",
      "      The function exc_info() should be used instead of these three,\n",
      "      because it is thread-safe.\n",
      "    \n",
      "    Static objects:\n",
      "    \n",
      "    float_info -- a dict with information about the float inplementation.\n",
      "    long_info -- a struct sequence with information about the long implementation.\n",
      "    maxint -- the largest supported integer (the smallest is -maxint-1)\n",
      "    maxsize -- the largest supported length of containers.\n",
      "    maxunicode -- the largest supported character\n",
      "    builtin_module_names -- tuple of module names built into this interpreter\n",
      "    version -- the version of this interpreter as a string\n",
      "    version_info -- version information as a named tuple\n",
      "    hexversion -- version information encoded as a single integer\n",
      "    copyright -- copyright notice pertaining to this interpreter\n",
      "    platform -- platform identifier\n",
      "    executable -- absolute path of the executable binary of the Python interpreter\n",
      "    prefix -- prefix used to find the Python library\n",
      "    exec_prefix -- prefix used to find the machine-specific Python library\n",
      "    float_repr_style -- string indicating the style of repr() output for floats\n",
      "    dllhandle -- [Windows only] integer handle of the Python DLL\n",
      "    winver -- [Windows only] version number of the Python DLL\n",
      "    __stdin__ -- the original stdin; don't touch!\n",
      "    __stdout__ -- the original stdout; don't touch!\n",
      "    __stderr__ -- the original stderr; don't touch!\n",
      "    __displayhook__ -- the original displayhook; don't touch!\n",
      "    __excepthook__ -- the original excepthook; don't touch!\n",
      "    \n",
      "    Functions:\n",
      "    \n",
      "    displayhook() -- print an object to the screen, and save it in __builtin__._\n",
      "    excepthook() -- print an exception and its traceback to sys.stderr\n",
      "    exc_info() -- return thread-safe information about the current exception\n",
      "    exc_clear() -- clear the exception state for the current thread\n",
      "    exit() -- exit the interpreter by raising SystemExit\n",
      "    getdlopenflags() -- returns flags to be used for dlopen() calls\n",
      "    getprofile() -- get the global profiling function\n",
      "    getrefcount() -- return the reference count for an object (plus one :-)\n",
      "    getrecursionlimit() -- return the max recursion depth for the interpreter\n",
      "    getsizeof() -- return the size of an object in bytes\n",
      "    gettrace() -- get the global debug tracing function\n",
      "    setcheckinterval() -- control how often the interpreter checks for events\n",
      "    setdlopenflags() -- set the flags to be used for dlopen() calls\n",
      "    setprofile() -- set the global profiling function\n",
      "    setrecursionlimit() -- set the max recursion depth for the interpreter\n",
      "    settrace() -- set the global debug tracing function\n",
      "\n",
      "FUNCTIONS\n",
      "    __displayhook__ = displayhook(...)\n",
      "        displayhook(object) -> None\n",
      "        \n",
      "        Print an object to sys.stdout and also save it in __builtin__._\n",
      "    \n",
      "    __excepthook__ = excepthook(...)\n",
      "        excepthook(exctype, value, traceback) -> None\n",
      "        \n",
      "        Handle an exception by displaying it with a traceback on sys.stderr.\n",
      "    \n",
      "    call_tracing(...)\n",
      "        call_tracing(func, args) -> object\n",
      "        \n",
      "        Call func(*args), while tracing is enabled.  The tracing state is\n",
      "        saved, and restored afterwards.  This is intended to be called from\n",
      "        a debugger from a checkpoint, to recursively debug some other code.\n",
      "    \n",
      "    callstats(...)\n",
      "        callstats() -> tuple of integers\n",
      "        \n",
      "        Return a tuple of function call statistics, if CALL_PROFILE was defined\n",
      "        when Python was built.  Otherwise, return None.\n",
      "        \n",
      "        When enabled, this function returns detailed, implementation-specific\n",
      "        details about the number of function calls executed. The return value is\n",
      "        a 11-tuple where the entries in the tuple are counts of:\n",
      "        0. all function calls\n",
      "        1. calls to PyFunction_Type objects\n",
      "        2. PyFunction calls that do not create an argument tuple\n",
      "        3. PyFunction calls that do not create an argument tuple\n",
      "           and bypass PyEval_EvalCodeEx()\n",
      "        4. PyMethod calls\n",
      "        5. PyMethod calls on bound methods\n",
      "        6. PyType calls\n",
      "        7. PyCFunction calls\n",
      "        8. generator calls\n",
      "        9. All other calls\n",
      "        10. Number of stack pops performed by call_function()\n",
      "    \n",
      "    exc_clear(...)\n",
      "        exc_clear() -> None\n",
      "        \n",
      "        Clear global information on the current exception.  Subsequent calls to\n",
      "        exc_info() will return (None,None,None) until another exception is raised\n",
      "        in the current thread or the execution stack returns to a frame where\n",
      "        another exception is being handled.\n",
      "    \n",
      "    exc_info(...)\n",
      "        exc_info() -> (type, value, traceback)\n",
      "        \n",
      "        Return information about the most recent exception caught by an except\n",
      "        clause in the current stack frame or in an older stack frame.\n",
      "    \n",
      "    exit(...)\n",
      "        exit([status])\n",
      "        \n",
      "        Exit the interpreter by raising SystemExit(status).\n",
      "        If the status is omitted or None, it defaults to zero (i.e., success).\n",
      "        If the status is an integer, it will be used as the system exit status.\n",
      "        If it is another kind of object, it will be printed and the system\n",
      "        exit status will be one (i.e., failure).\n",
      "    \n",
      "    getcheckinterval(...)\n",
      "        getcheckinterval() -> current check interval; see setcheckinterval().\n",
      "    \n",
      "    getdefaultencoding(...)\n",
      "        getdefaultencoding() -> string\n",
      "        \n",
      "        Return the current default string encoding used by the Unicode \n",
      "        implementation.\n",
      "    \n",
      "    getfilesystemencoding(...)\n",
      "        getfilesystemencoding() -> string\n",
      "        \n",
      "        Return the encoding used to convert Unicode filenames in\n",
      "        operating system filenames.\n",
      "    \n",
      "    getprofile(...)\n",
      "        getprofile()\n",
      "        \n",
      "        Return the profiling function set with sys.setprofile.\n",
      "        See the profiler chapter in the library manual.\n",
      "    \n",
      "    getrecursionlimit(...)\n",
      "        getrecursionlimit()\n",
      "        \n",
      "        Return the current value of the recursion limit, the maximum depth\n",
      "        of the Python interpreter stack.  This limit prevents infinite\n",
      "        recursion from causing an overflow of the C stack and crashing Python.\n",
      "    \n",
      "    getrefcount(...)\n",
      "        getrefcount(object) -> integer\n",
      "        \n",
      "        Return the reference count of object.  The count returned is generally\n",
      "        one higher than you might expect, because it includes the (temporary)\n",
      "        reference as an argument to getrefcount().\n",
      "    \n",
      "    getsizeof(...)\n",
      "        getsizeof(object, default) -> int\n",
      "        \n",
      "        Return the size of object in bytes.\n",
      "    \n",
      "    gettrace(...)\n",
      "        gettrace()\n",
      "        \n",
      "        Return the global debug tracing function set with sys.settrace.\n",
      "        See the debugger chapter in the library manual.\n",
      "    \n",
      "    getwindowsversion(...)\n",
      "        getwindowsversion()\n",
      "        \n",
      "        Return information about the running version of Windows as a named tuple.\n",
      "        The members are named: major, minor, build, platform, service_pack,\n",
      "        service_pack_major, service_pack_minor, suite_mask, and product_type. For\n",
      "        backward compatibility, only the first 5 items are available by indexing.\n",
      "        All elements are numbers, except service_pack which is a string. Platform\n",
      "        may be 0 for win32s, 1 for Windows 9x/ME, 2 for Windows NT/2000/XP/Vista/7,\n",
      "        3 for Windows CE. Product_type may be 1 for a workstation, 2 for a domain\n",
      "        controller, 3 for a server.\n",
      "    \n",
      "    setcheckinterval(...)\n",
      "        setcheckinterval(n)\n",
      "        \n",
      "        Tell the Python interpreter to check for asynchronous events every\n",
      "        n instructions.  This also affects how often thread switches occur.\n",
      "    \n",
      "    setprofile(...)\n",
      "        setprofile(function)\n",
      "        \n",
      "        Set the profiling function.  It will be called on each function call\n",
      "        and return.  See the profiler chapter in the library manual.\n",
      "    \n",
      "    setrecursionlimit(...)\n",
      "        setrecursionlimit(n)\n",
      "        \n",
      "        Set the maximum depth of the Python interpreter stack to n.  This\n",
      "        limit prevents infinite recursion from causing an overflow of the C\n",
      "        stack and crashing Python.  The highest possible limit is platform-\n",
      "        dependent.\n",
      "    \n",
      "    settrace(...)\n",
      "        settrace(function)\n",
      "        \n",
      "        Set the global debug tracing function.  It will be called on each\n",
      "        function call.  See the debugger chapter in the library manual.\n",
      "\n",
      "DATA\n",
      "    __stderr__ = <open file '<stderr>', mode 'w'>\n",
      "    __stdin__ = <open file '<stdin>', mode 'r'>\n",
      "    __stdout__ = <open file '<stdout>', mode 'w'>\n",
      "    api_version = 1013\n",
      "    argv = [r'C:\\Python27\\lib\\site-packages\\IPython\\kernel\\__main__.py', '...\n",
      "    builtin_module_names = ('__builtin__', '__main__', '_ast', '_bisect', ...\n",
      "    byteorder = 'little'\n",
      "    copyright = 'Copyright (c) 2001-2014 Python Software Foundati...ematis...\n",
      "    displayhook = <IPython.kernel.zmq.displayhook.ZMQShellDisplayHook obje...\n",
      "    dllhandle = 503316480\n",
      "    dont_write_bytecode = False\n",
      "    exc_value = TypeError(\"<module 'sys' (built-in)> is a built-in module\"...\n",
      "    exec_prefix = r'C:\\Python27'\n",
      "    executable = r'C:\\Python27\\python.exe'\n",
      "    flags = sys.flags(debug=0, py3k_warning=0, division_warn...unicode=0, ...\n",
      "    float_info = sys.float_info(max=1.7976931348623157e+308, max_...epsilo...\n",
      "    float_repr_style = 'short'\n",
      "    hexversion = 34015728\n",
      "    long_info = sys.long_info(bits_per_digit=15, sizeof_digit=2)\n",
      "    maxint = 2147483647\n",
      "    maxsize = 2147483647\n",
      "    maxunicode = 65535\n",
      "    meta_path = []\n",
      "    modules = {'IPython': <module 'IPython' from 'C:\\Python27\\lib\\site-pac...\n",
      "    path = ['', r'C:\\Python27\\lib\\site-packages\\selenium-2.45.0-py2.7.egg'...\n",
      "    path_hooks = [<type 'zipimport.zipimporter'>]\n",
      "    path_importer_cache = {'': None, r'C:\\Python27': None, r'C:\\Python27\\D...\n",
      "    platform = 'win32'\n",
      "    prefix = r'C:\\Python27'\n",
      "    ps1 = 'In : '\n",
      "    ps2 = '...: '\n",
      "    ps3 = 'Out: '\n",
      "    py3kwarning = False\n",
      "    stderr = <IPython.kernel.zmq.iostream.OutStream object>\n",
      "    stdin = <open file '<stdin>', mode 'r'>\n",
      "    stdout = <IPython.kernel.zmq.iostream.OutStream object>\n",
      "    subversion = ('CPython', '', '')\n",
      "    version = '2.7.9 (default, Dec 10 2014, 12:24:55) [MSC v.1500 32 bit (...\n",
      "    version_info = sys.version_info(major=2, minor=7, micro=9, releaseleve...\n",
      "    warnoptions = []\n",
      "    winver = '2.7'\n",
      "\n",
      "\n"
     ]
    }
   ],
   "source": [
    "help(sys)"
   ]
  },
  {
   "cell_type": "code",
   "execution_count": 13,
   "metadata": {
    "collapsed": false
   },
   "outputs": [
    {
     "name": "stdout",
     "output_type": "stream",
     "text": [
      "This module provides access to some objects used or maintained by the\n",
      "interpreter and to functions that interact strongly with the interpreter.\n",
      "\n",
      "Dynamic objects:\n",
      "\n",
      "argv -- command line arguments; argv[0] is the script pathname if known\n",
      "path -- module search path; path[0] is the script directory, else ''\n",
      "modules -- dictionary of loaded modules\n",
      "\n",
      "displayhook -- called to show results in an interactive session\n",
      "excepthook -- called to handle any uncaught exception other than SystemExit\n",
      "  To customize printing in an interactive session or to install a custom\n",
      "  top-level exception handler, assign other functions to replace these.\n",
      "\n",
      "exitfunc -- if sys.exitfunc exists, this routine is called when Python exits\n",
      "More'n'\n"
     ]
    }
   ],
   "source": [
    "# 分页脚本\n",
    "def more(text, numlines=15):\n",
    "    lines = text.splitlines()\n",
    "    while lines:\n",
    "        chunk = lines[:numlines]\n",
    "        lines = lines[numlines:]\n",
    "        for line in chunk:\n",
    "            print line\n",
    "        if lines and input('More') not in ['y', \"Y\"]:\n",
    "            break\n",
    "more(sys.__doc__)"
   ]
  },
  {
   "cell_type": "code",
   "execution_count": 22,
   "metadata": {
    "collapsed": false
   },
   "outputs": [
    {
     "data": {
      "text/plain": [
       "('win32',\n",
       " 2147483647,\n",
       " '2.7.9 (default, Dec 10 2014, 12:24:55) [MSC v.1500 32 bit (Intel)]')"
      ]
     },
     "execution_count": 22,
     "metadata": {},
     "output_type": "execute_result"
    }
   ],
   "source": [
    "getattr(globals()['sys'], \"platform\")\n",
    "# \n",
    "sys.platform, sys.maxsize, sys.version"
   ]
  },
  {
   "cell_type": "code",
   "execution_count": 24,
   "metadata": {
    "collapsed": false,
    "scrolled": true
   },
   "outputs": [
    {
     "name": "stdout",
     "output_type": "stream",
     "text": [
      "['', 'C:\\\\Python27\\\\lib\\\\site-packages\\\\selenium-2.45.0-py2.7.egg', 'C:\\\\Python27\\\\lib\\\\site-packages\\\\twisted-15.0.0-py2.7-win32.egg', 'C:\\\\Python27\\\\lib\\\\site-packages\\\\zope.interface-4.1.2-py2.7-win32.egg', 'C:\\\\Python27\\\\lib\\\\site-packages\\\\lxml-3.4.2-py2.7-win32.egg', 'C:\\\\Python27\\\\lib\\\\site-packages\\\\scrapy-0.24.5-py2.7.egg', 'C:\\\\Python27\\\\lib\\\\site-packages\\\\six-1.9.0-py2.7.egg', 'C:\\\\Python27\\\\lib\\\\site-packages\\\\cssselect-0.9.1-py2.7.egg', 'C:\\\\Python27\\\\lib\\\\site-packages\\\\queuelib-1.2.2-py2.7.egg', 'C:\\\\Python27\\\\lib\\\\site-packages\\\\w3lib-1.11.0-py2.7.egg', 'C:\\\\Python27\\\\lib\\\\site-packages\\\\pyreadline-2.0-py2.7-win32.egg', 'C:\\\\Python27\\\\lib\\\\site-packages\\\\pytz-2015.2-py2.7.egg', 'C:\\\\Python27\\\\lib\\\\site-packages\\\\python_dateutil-2.4.1-py2.7.egg', 'C:\\\\Python27\\\\lib\\\\site-packages\\\\requests-2.6.0-py2.7.egg', 'C:\\\\Python27\\\\lib\\\\site-packages\\\\flask-0.10.1-py2.7.egg', 'C:\\\\Python27\\\\lib\\\\site-packages\\\\itsdangerous-0.24-py2.7.egg', 'C:\\\\Python27\\\\lib\\\\site-packages\\\\jinja2-2.7.3-py2.7.egg', 'C:\\\\Python27\\\\lib\\\\site-packages\\\\werkzeug-0.10.4-py2.7.egg', 'C:\\\\Python27\\\\lib\\\\site-packages\\\\markupsafe-0.23-py2.7-win32.egg', 'C:\\\\Python27\\\\lib\\\\site-packages\\\\django-1.7.7-py2.7.egg', 'C:\\\\Python27\\\\lib\\\\site-packages\\\\purl-1.0.3-py2.7.egg', 'C:\\\\Python27\\\\lib\\\\site-packages\\\\chardet-2.3.0-py2.7.egg', 'C:\\\\Python27\\\\lib\\\\site-packages\\\\pyzmq-14.5.0-py2.7-win32.egg', 'C:\\\\Python27\\\\lib\\\\site-packages\\\\tornado-4.1-py2.7-win32.egg', 'C:\\\\Python27\\\\lib\\\\site-packages\\\\backports.ssl_match_hostname-3.4.0.2-py2.7.egg', 'C:\\\\Python27\\\\lib\\\\site-packages\\\\certifi-14.05.14-py2.7.egg', 'C:\\\\Python27\\\\lib\\\\site-packages\\\\jsonschema-2.4.0-py2.7.egg', 'C:\\\\Python27\\\\lib\\\\site-packages\\\\flask_sqlalchemy-2.0-py2.7.egg', 'C:\\\\Python27\\\\lib\\\\site-packages\\\\sqlalchemy-1.0.0b4-py2.7-win32.egg', 'C:\\\\Python27\\\\lib\\\\site-packages\\\\boto-2.36.0-py2.7.egg', 'C:\\\\Python27\\\\lib\\\\site-packages\\\\boto3-0.0.13-py2.7.egg', 'C:\\\\Python27\\\\lib\\\\site-packages\\\\jmespath-0.6.1-py2.7.egg', 'C:\\\\Python27\\\\lib\\\\site-packages\\\\bcdoc-0.12.2-py2.7.egg', 'C:\\\\Python27\\\\lib\\\\site-packages\\\\botocore-0.100.0-py2.7.egg', 'C:\\\\Python27\\\\lib\\\\site-packages\\\\docutils-0.12-py2.7.egg', 'C:\\\\Python27\\\\lib\\\\site-packages\\\\service_identity-14.0.0-py2.7.egg', 'C:\\\\Python27\\\\lib\\\\site-packages\\\\pyopenssl-0.14-py2.7.egg', 'C:\\\\Python27\\\\lib\\\\site-packages\\\\pyasn1_modules-0.0.5-py2.7.egg', 'C:\\\\Python27\\\\lib\\\\site-packages\\\\pyasn1-0.1.7-py2.7.egg', 'C:\\\\Python27\\\\lib\\\\site-packages\\\\characteristic-14.3.0-py2.7.egg', 'C:\\\\Python27\\\\lib\\\\site-packages\\\\pymongo-3.0-py2.7-win32.egg', 'C:\\\\Python27\\\\lib\\\\site-packages\\\\py-1.4.26-py2.7.egg', 'C:\\\\Python27\\\\lib\\\\site-packages\\\\autopy-0.51-py2.7-win32.egg', 'C:\\\\Windows\\\\system32\\\\python27.zip', 'C:\\\\Python27\\\\DLLs', 'C:\\\\Python27\\\\lib', 'C:\\\\Python27\\\\lib\\\\plat-win', 'C:\\\\Python27\\\\lib\\\\lib-tk', 'C:\\\\Python27', 'C:\\\\Python27\\\\lib\\\\site-packages', 'C:\\\\Python27\\\\lib\\\\site-packages\\\\PIL', 'C:\\\\Python27\\\\lib\\\\site-packages\\\\win32', 'C:\\\\Python27\\\\lib\\\\site-packages\\\\win32\\\\lib', 'C:\\\\Python27\\\\lib\\\\site-packages\\\\Pythonwin', 'C:\\\\Python27\\\\lib\\\\site-packages\\\\IPython\\\\extensions']\n"
     ]
    }
   ],
   "source": [
    "# 打印系统环境变量\n",
    "print sys.path"
   ]
  },
  {
   "cell_type": "code",
   "execution_count": 25,
   "metadata": {
    "collapsed": false
   },
   "outputs": [
    {
     "name": "stdout",
     "output_type": "stream",
     "text": [
      "{'IPython.config.re': None, 'IPython.core.error': <module 'IPython.core.error' from 'C:\\Python27\\lib\\site-packages\\IPython\\core\\error.pyc'>, 'logging.atexit': None, 'zmq.sugar.weakref': None, 'IPython.kernel.connect': <module 'IPython.kernel.connect' from 'C:\\Python27\\lib\\site-packages\\IPython\\kernel\\connect.pyc'>, 'ctypes.os': None, 'zmq.devices.time': None, 'runpy': <module 'runpy' from 'C:\\Python27\\lib\\runpy.pyc'>, 'gc': <module 'gc' (built-in)>, 'IPython.utils.pprint': None, 'pyreadline.modes.basemode': <module 'pyreadline.modes.basemode' from 'C:\\Python27\\lib\\site-packages\\pyreadline-2.0-py2.7-win32.egg\\pyreadline\\modes\\basemode.pyc'>, 'logging.weakref': None, 'pprint': <module 'pprint' from 'C:\\Python27\\lib\\pprint.pyc'>, 'IPython.kernel.inprocess.zmq': None, 'IPython.kernel.blocking.client': <module 'IPython.kernel.blocking.client' from 'C:\\Python27\\lib\\site-packages\\IPython\\kernel\\blocking\\client.pyc'>, 'IPython.kernel.comm.uuid': None, 'zmq': <module 'zmq' from 'C:\\Python27\\lib\\site-packages\\pyzmq-14.5.0-py2.7-win32.egg\\zmq\\__init__.pyc'>, 'IPython.terminal.sys': None, 'string': <module 'string' from 'C:\\Python27\\lib\\string.pyc'>, 'IPython.config.sys': None, 'IPython.utils.logging': None, 'IPython.config.json': None, 'encodings.utf_8': <module 'encodings.utf_8' from 'C:\\Python27\\lib\\encodings\\utf_8.pyc'>, 'IPython.kernel.zmq.serialize': <module 'IPython.kernel.zmq.serialize' from 'C:\\Python27\\lib\\site-packages\\IPython\\kernel\\zmq\\serialize.pyc'>, 'IPython.html.IPython': None, 'zmq.sugar.context': <module 'zmq.sugar.context' from 'C:\\Python27\\lib\\site-packages\\pyzmq-14.5.0-py2.7-win32.egg\\zmq\\sugar\\context.pyc'>, 'json.encoder': <module 'json.encoder' from 'C:\\Python27\\lib\\json\\encoder.pyc'>, 'subprocess': <module 'subprocess' from 'C:\\Python27\\lib\\subprocess.pyc'>, 'zmq.devices.threading': None, 'zmq.backend.cython.utils': <module 'zmq.backend.cython.utils' from 'C:\\Python27\\lib\\site-packages\\pyzmq-14.5.0-py2.7-win32.egg\\zmq\\backend\\cython\\utils.pyd'>, 'pyreadline.rlmain': <module 'pyreadline.rlmain' from 'C:\\Python27\\lib\\site-packages\\pyreadline-2.0-py2.7-win32.egg\\pyreadline\\rlmain.pyc'>, 'encodings._codecs_cn': None, 'IPython.utils.errno': None, 'IPython.core.debugger': <module 'IPython.core.debugger' from 'C:\\Python27\\lib\\site-packages\\IPython\\core\\debugger.pyc'>, 'IPython.kernel.inprocess.manager': <module 'IPython.kernel.inprocess.manager' from 'C:\\Python27\\lib\\site-packages\\IPython\\kernel\\inprocess\\manager.pyc'>, 'IPython.core.displayhook': <module 'IPython.core.displayhook' from 'C:\\Python27\\lib\\site-packages\\IPython\\core\\displayhook.pyc'>, 'pyreadline.console': <module 'pyreadline.console' from 'C:\\Python27\\lib\\site-packages\\pyreadline-2.0-py2.7-win32.egg\\pyreadline\\console\\__init__.pyc'>, 'IPython.lib.IPython': None, 'IPython.core.magics.auto': <module 'IPython.core.magics.auto' from 'C:\\Python27\\lib\\site-packages\\IPython\\core\\magics\\auto.pyc'>, 'shlex': <module 'shlex' from 'C:\\Python27\\lib\\shlex.pyc'>, 'IPython.config': <module 'IPython.config' from 'C:\\Python27\\lib\\site-packages\\IPython\\config\\__init__.pyc'>, 'IPython.core.ultratb': <module 'IPython.core.ultratb' from 'C:\\Python27\\lib\\site-packages\\IPython\\core\\ultratb.pyc'>, 'multiprocessing': <module 'multiprocessing' from 'C:\\Python27\\lib\\multiprocessing\\__init__.pyc'>, 'dis': <module 'dis' from 'C:\\Python27\\lib\\dis.pyc'>, 'IPython.kernel.IPython': None, 'logging.threading': None, 'IPython.core.splitinput': <module 'IPython.core.splitinput' from 'C:\\Python27\\lib\\site-packages\\IPython\\core\\splitinput.pyc'>, 'IPython.lib.types': None, 'IPython.terminal.ipapp': <module 'IPython.terminal.ipapp' from 'C:\\Python27\\lib\\site-packages\\IPython\\terminal\\ipapp.pyc'>, 'IPython.core.excolors': <module 'IPython.core.excolors' from 'C:\\Python27\\lib\\site-packages\\IPython\\core\\excolors.pyc'>, 'IPython.utils.tempfile': None, 'IPython.extensions.textwrap': None, 'IPython.core.inspect': None, 'IPython.utils.version': <module 'IPython.utils.version' from 'C:\\Python27\\lib\\site-packages\\IPython\\utils\\version.pyc'>, 'IPython.lib.getpass': None, 'encodings.gbk': <module 'encodings.gbk' from 'C:\\Python27\\lib\\encodings\\gbk.pyc'>, 'abc': <module 'abc' from 'C:\\Python27\\lib\\abc.pyc'>, 'IPython.core.displaypub': <module 'IPython.core.displaypub' from 'C:\\Python27\\lib\\site-packages\\IPython\\core\\displaypub.pyc'>, 'zmq.utils.sys': None, 'bdb': <module 'bdb' from 'C:\\Python27\\lib\\bdb.pyc'>, 'IPython.kernel.client': <module 'IPython.kernel.client' from 'C:\\Python27\\lib\\site-packages\\IPython\\kernel\\client.pyc'>, 'IPython.core.mimetypes': None, 'IPython.external.path.hashlib': None, 'ntpath': <module 'ntpath' from 'C:\\Python27\\lib\\ntpath.pyc'>, 'UserDict': <module 'UserDict' from 'C:\\Python27\\lib\\UserDict.pyc'>, 'zmq.sugar.warnings': None, 'zmq.devices.monitoredqueue': <module 'zmq.devices.monitoredqueue' from 'C:\\Python27\\lib\\site-packages\\pyzmq-14.5.0-py2.7-win32.egg\\zmq\\devices\\monitoredqueue.pyd'>, 'IPython.utils.jsonutil': <module 'IPython.utils.jsonutil' from 'C:\\Python27\\lib\\site-packages\\IPython\\utils\\jsonutil.pyc'>, 'IPython.utils.openpy': <module 'IPython.utils.openpy' from 'C:\\Python27\\lib\\site-packages\\IPython\\utils\\openpy.pyc'>, 'IPython.core.alias': <module 'IPython.core.alias' from 'C:\\Python27\\lib\\site-packages\\IPython\\core\\alias.pyc'>, 'inspect': <module 'inspect' from 'C:\\Python27\\lib\\inspect.pyc'>, 'IPython.core.datetime': None, '_ctypes': <module '_ctypes' from 'C:\\Python27\\DLLs\\_ctypes.pyd'>, 'IPython.kernel.zmq.cPickle': None, 'exceptions': <module 'exceptions' (built-in)>, 'json.scanner': <module 'json.scanner' from 'C:\\Python27\\lib\\json\\scanner.pyc'>, 'IPython.utils.zmq': None, 'codecs': <module 'codecs' from 'C:\\Python27\\lib\\codecs.pyc'>, 'IPython.core.shadowns': <module 'IPython.core.shadowns' from 'C:\\Python27\\lib\\site-packages\\IPython\\core\\shadowns.pyc'>, 'importlib': <module 'importlib' from 'C:\\Python27\\lib\\importlib\\__init__.pyc'>, 'IPython.external.simplegeneric.types': None, 'IPython.core.magics.extension': <module 'IPython.core.magics.extension' from 'C:\\Python27\\lib\\site-packages\\IPython\\core\\magics\\extension.pyc'>, 'IPython.utils.shutil': None, 'StringIO': <module 'StringIO' from 'C:\\Python27\\lib\\StringIO.pyc'>, 'IPython.external.decorator._decorator': <module 'IPython.external.decorator._decorator' from 'C:\\Python27\\lib\\site-packages\\IPython\\external\\decorator\\_decorator.pyc'>, 'weakref': <module 'weakref' from 'C:\\Python27\\lib\\weakref.pyc'>, 'IPython.utils.datetime': None, 'IPython.kernel.zmq': <module 'IPython.kernel.zmq' from 'C:\\Python27\\lib\\site-packages\\IPython\\kernel\\zmq\\__init__.pyc'>, 'IPython.core.display': <module 'IPython.core.display' from 'C:\\Python27\\lib\\site-packages\\IPython\\core\\display.pyc'>, 'IPython.utils.eventful': <module 'IPython.utils.eventful' from 'C:\\Python27\\lib\\site-packages\\IPython\\utils\\eventful.pyc'>, 'IPython.terminal': <module 'IPython.terminal' from 'C:\\Python27\\lib\\site-packages\\IPython\\terminal\\__init__.pyc'>, 'encodings.binascii': None, 'base64': <module 'base64' from 'C:\\Python27\\lib\\base64.pyc'>, '_sre': <module '_sre' (built-in)>, 'IPython.core.magics.ast': None, 'IPython.core.json': None, 'sqlite3.dbapi2': <module 'sqlite3.dbapi2' from 'C:\\Python27\\lib\\sqlite3\\dbapi2.pyc'>, 'IPython': <module 'IPython' from 'C:\\Python27\\lib\\site-packages\\IPython\\__init__.pyc'>, 'logging.re': None, 'IPython.core.subprocess': None, 'IPython.external.path.os': None, '_heapq': <module '_heapq' (built-in)>, 'IPython.core.display_trap': <module 'IPython.core.display_trap' from 'C:\\Python27\\lib\\site-packages\\IPython\\core\\display_trap.pyc'>, 'zmq.sugar.constants': <module 'zmq.sugar.constants' from 'C:\\Python27\\lib\\site-packages\\pyzmq-14.5.0-py2.7-win32.egg\\zmq\\sugar\\constants.pyc'>, 'zmq.backend.cython.time': None, 'binascii': <module 'binascii' (built-in)>, 'IPython.kernel.subprocess': None, 'zmq.backend.cython._poll': <module 'zmq.backend.cython._poll' from 'C:\\Python27\\lib\\site-packages\\pyzmq-14.5.0-py2.7-win32.egg\\zmq\\backend\\cython\\_poll.pyd'>, 'IPython.core.logger': <module 'IPython.core.logger' from 'C:\\Python27\\lib\\site-packages\\IPython\\core\\logger.pyc'>, 'IPython.config.collections': None, 'tokenize': <module 'tokenize' from 'C:\\Python27\\lib\\tokenize.pyc'>, 'IPython.kernel.kernelspec': <module 'IPython.kernel.kernelspec' from 'C:\\Python27\\lib\\site-packages\\IPython\\kernel\\kernelspec.pyc'>, 'cPickle': <module 'cPickle' (built-in)>, 'IPython.external.path.win32security': None, 'IPython.utils.encoding': <module 'IPython.utils.encoding' from 'C:\\Python27\\lib\\site-packages\\IPython\\utils\\encoding.pyc'>, 'IPython.core.ast': None, 'IPython.core.keyword': None, 'IPython.lib.os': None, 'IPython.core.magics.itertools': None, 'zmq.backend.cython.cPickle': None, 'IPython.core.getipython': <module 'IPython.core.getipython' from 'C:\\Python27\\lib\\site-packages\\IPython\\core\\getipython.pyc'>, 'IPython.core.magics.cProfile': None, 'IPython.core.magics.display': <module 'IPython.core.magics.display' from 'C:\\Python27\\lib\\site-packages\\IPython\\core\\magics\\display.pyc'>, 'IPython.core.page': <module 'IPython.core.page' from 'C:\\Python27\\lib\\site-packages\\IPython\\core\\page.pyc'>, '_ast': <module '_ast' (built-in)>, 'IPython.utils.process': <module 'IPython.utils.process' from 'C:\\Python27\\lib\\site-packages\\IPython\\utils\\process.pyc'>, 'IPython.utils.ctypes': None, 'zmq.sugar.tracker': <module 'zmq.sugar.tracker' from 'C:\\Python27\\lib\\site-packages\\pyzmq-14.5.0-py2.7-win32.egg\\zmq\\sugar\\tracker.pyc'>, 'zmq.backend.cython.codecs': None, 'encodings.aliases': <module 'encodings.aliases' from 'C:\\Python27\\lib\\encodings\\aliases.pyc'>, 'IPython.external.path.functools': None, 'fnmatch': <module 'fnmatch' from 'C:\\Python27\\lib\\fnmatch.pyc'>, 'sre_parse': <module 'sre_parse' from 'C:\\Python27\\lib\\sre_parse.pyc'>, 'tornado.concurrent': <module 'tornado.concurrent' from 'C:\\Python27\\lib\\site-packages\\tornado-4.1-py2.7-win32.egg\\tornado\\concurrent.pyc'>, 'logging.cStringIO': None, 'numbers': <module 'numbers' from 'C:\\Python27\\lib\\numbers.pyc'>, 'IPython.utils.shlex': None, 'IPython.core.magics.signal': None, 'IPython.kernel.zmq.heartbeat': <module 'IPython.kernel.zmq.heartbeat' from 'C:\\Python27\\lib\\site-packages\\IPython\\kernel\\zmq\\heartbeat.pyc'>, 'IPython.html.nbextensions': <module 'IPython.html.nbextensions' from 'C:\\Python27\\lib\\site-packages\\IPython\\html\\nbextensions.pyc'>, 'IPython.utils.platform': None, 'strop': <module 'strop' (built-in)>, 'IPython.kernel.manager': <module 'IPython.kernel.manager' from 'C:\\Python27\\lib\\site-packages\\IPython\\kernel\\manager.pyc'>, 'IPython.core.history': <module 'IPython.core.history' from 'C:\\Python27\\lib\\site-packages\\IPython\\core\\history.pyc'>, 'IPython.external.decorator': <module 'IPython.external.decorator' from 'C:\\Python27\\lib\\site-packages\\IPython\\external\\decorator\\__init__.pyc'>, 'IPython.utils.ipstruct': <module 'IPython.utils.ipstruct' from 'C:\\Python27\\lib\\site-packages\\IPython\\utils\\ipstruct.pyc'>, 'IPython.kernel.channelsabc': <module 'IPython.kernel.channelsabc' from 'C:\\Python27\\lib\\site-packages\\IPython\\kernel\\channelsabc.pyc'>, 'zmq.utils.sixcerpt': <module 'zmq.utils.sixcerpt' from 'C:\\Python27\\lib\\site-packages\\pyzmq-14.5.0-py2.7-win32.egg\\zmq\\utils\\sixcerpt.pyc'>, 'pyreadline.console.event': <module 'pyreadline.console.event' from 'C:\\Python27\\lib\\site-packages\\pyreadline-2.0-py2.7-win32.egg\\pyreadline\\console\\event.pyc'>, 'IPython.extensions.__future__': None, 'IPython.config.application': <module 'IPython.config.application' from 'C:\\Python27\\lib\\site-packages\\IPython\\config\\application.pyc'>, 'zipfile': <module 'zipfile' from 'C:\\Python27\\lib\\zipfile.pyc'>, 'htmlentitydefs': <module 'htmlentitydefs' from 'C:\\Python27\\lib\\htmlentitydefs.pyc'>, 'zmq.backend.cython.threading': None, 'IPython.external.path.fnmatch': None, 'zmq.sugar.codecs': None, 'codeop': <module 'codeop' from 'C:\\Python27\\lib\\codeop.pyc'>, 'IPython.external.decorator.functools': None, 'tornado.platform.interface': <module 'tornado.platform.interface' from 'C:\\Python27\\lib\\site-packages\\tornado-4.1-py2.7-win32.egg\\tornado\\platform\\interface.pyc'>, 'IPython.core.magics.osm': <module 'IPython.core.magics.osm' from 'C:\\Python27\\lib\\site-packages\\IPython\\core\\magics\\osm.pyc'>, 'os.path': <module 'ntpath' from 'C:\\Python27\\lib\\ntpath.pyc'>, 'IPython.core.magics.time': None, 'IPython.utils.socket': None, 'argparse': <module 'argparse' from 'C:\\Python27\\lib\\argparse.pyc'>, 'IPython.kernel.io': None, 'IPython.utils.distutils': None, '_weakrefset': <module '_weakrefset' from 'C:\\Python27\\lib\\_weakrefset.pyc'>, 'zmq.backend.select': <module 'zmq.backend.select' from 'C:\\Python27\\lib\\site-packages\\pyzmq-14.5.0-py2.7-win32.egg\\zmq\\backend\\select.pyc'>, 'IPython.kernel.zmq.ipkernel': <module 'IPython.kernel.zmq.ipkernel' from 'C:\\Python27\\lib\\site-packages\\IPython\\kernel\\zmq\\ipkernel.pyc'>, 'IPython.kernel.channels': <module 'IPython.kernel.channels' from 'C:\\Python27\\lib\\site-packages\\IPython\\kernel\\channels.pyc'>, 'functools': <module 'functools' from 'C:\\Python27\\lib\\functools.pyc'>, 'sysconfig': <module 'sysconfig' from 'C:\\Python27\\lib\\sysconfig.pyc'>, 'IPython.terminal.embed': <module 'IPython.terminal.embed' from 'C:\\Python27\\lib\\site-packages\\IPython\\terminal\\embed.pyc'>, 'IPython.kernel.inprocess.client': <module 'IPython.kernel.inprocess.client' from 'C:\\Python27\\lib\\site-packages\\IPython\\kernel\\inprocess\\client.pyc'>, 'pyreadline.lineeditor.wordmatcher': <module 'pyreadline.lineeditor.wordmatcher' from 'C:\\Python27\\lib\\site-packages\\pyreadline-2.0-py2.7-win32.egg\\pyreadline\\lineeditor\\wordmatcher.pyc'>, 'zmq.devices': <module 'zmq.devices' from 'C:\\Python27\\lib\\site-packages\\pyzmq-14.5.0-py2.7-win32.egg\\zmq\\devices\\__init__.pyc'>, 'sqlite3.collections': None, 'IPython.external.path.__future__': None, 'uuid': <module 'uuid' from 'C:\\Python27\\lib\\uuid.pyc'>, 'tempfile': <module 'tempfile' from 'C:\\Python27\\lib\\tempfile.pyc'>, 'IPython.kernel.zmq.thread': None, 'IPython.config.configurable': <module 'IPython.config.configurable' from 'C:\\Python27\\lib\\site-packages\\IPython\\config\\configurable.pyc'>, 'imp': <module 'imp' (built-in)>, 'multiprocessing.os': None, 'IPython.utils.tempdir': <module 'IPython.utils.tempdir' from 'C:\\Python27\\lib\\site-packages\\IPython\\utils\\tempdir.pyc'>, 'IPython.core.magics.pstats': None, 'multiprocessing.itertools': None, 'IPython.kernel.zmq.IPython': None, 'IPython.core.magics.logging': <module 'IPython.core.magics.logging' from 'C:\\Python27\\lib\\site-packages\\IPython\\core\\magics\\logging.pyc'>, 'zmq.zmq': None, 'IPython.utils.pickleutil': <module 'IPython.utils.pickleutil' from 'C:\\Python27\\lib\\site-packages\\IPython\\utils\\pickleutil.pyc'>, 'IPython.lib.deepreload': <module 'IPython.lib.deepreload' from 'C:\\Python27\\lib\\site-packages\\IPython\\lib\\deepreload.pyc'>, 'IPython.core.traceback': None, 'sqlite3': <module 'sqlite3' from 'C:\\Python27\\lib\\sqlite3\\__init__.pyc'>, 'IPython.core.__main__': None, 'IPython.extensions': <module 'IPython.extensions' from 'C:\\Python27\\lib\\site-packages\\IPython\\extensions\\__init__.pyc'>, 'IPython.config.IPython': None, 'zmq.eventloop.__future__': None, 'IPython.core.zipimport': None, 'IPython.core.magics.execution': <module 'IPython.core.magics.execution' from 'C:\\Python27\\lib\\site-packages\\IPython\\core\\magics\\execution.pyc'>, 'IPython.terminal.interactiveshell': <module 'IPython.terminal.interactiveshell' from 'C:\\Python27\\lib\\site-packages\\IPython\\terminal\\interactiveshell.pyc'>, 'zmq.backend.cython.context': <module 'zmq.backend.cython.context' from 'C:\\Python27\\lib\\site-packages\\pyzmq-14.5.0-py2.7-win32.egg\\zmq\\backend\\cython\\context.pyd'>, 'IPython.core.warnings': None, 'IPython.utils.imp': None, 'logging.handlers': <module 'logging.handlers' from 'C:\\Python27\\lib\\logging\\handlers.pyc'>, 'token': <module 'token' from 'C:\\Python27\\lib\\token.pyc'>, 'IPython.kernel.json': None, 'IPython.testing.sys': None, 'IPython.core.pylabtools': <module 'IPython.core.pylabtools' from 'C:\\Python27\\lib\\site-packages\\IPython\\core\\pylabtools.pyc'>, 'IPython.utils.warnings': None, 'IPython.core.magics.gc': None, 'pyreadline.console.console': <module 'pyreadline.console.console' from 'C:\\Python27\\lib\\site-packages\\pyreadline-2.0-py2.7-win32.egg\\pyreadline\\console\\console.pyc'>, 'cStringIO': <module 'cStringIO' (built-in)>, 'cmd': <module 'cmd' from 'C:\\Python27\\lib\\cmd.pyc'>, 'IPython.kernel.zmq.signal': None, 'IPython.core.io': None, 'IPython.core.magics.namespace': <module 'IPython.core.magics.namespace' from 'C:\\Python27\\lib\\site-packages\\IPython\\core\\magics\\namespace.pyc'>, 'pyreadline.logger': <module 'pyreadline.logger' from 'C:\\Python27\\lib\\site-packages\\pyreadline-2.0-py2.7-win32.egg\\pyreadline\\logger.pyc'>, 'IPython.kernel.inprocess.Queue': None, 'zmq.os': None, 'zmq.sugar.frame': <module 'zmq.sugar.frame' from 'C:\\Python27\\lib\\site-packages\\pyzmq-14.5.0-py2.7-win32.egg\\zmq\\sugar\\frame.pyc'>, 'zmq.backend.zmq': None, 'multiprocessing.process': <module 'multiprocessing.process' from 'C:\\Python27\\lib\\multiprocessing\\process.pyc'>, 'encodings': <module 'encodings' from 'C:\\Python27\\lib\\encodings\\__init__.pyc'>, 'IPython.kernel.zmq.kernelapp': <module 'IPython.kernel.zmq.kernelapp' from 'C:\\Python27\\lib\\site-packages\\IPython\\kernel\\zmq\\kernelapp.pyc'>, 'IPython.core.magics.history': <module 'IPython.core.magics.history' from 'C:\\Python27\\lib\\site-packages\\IPython\\core\\magics\\history.pyc'>, 'IPython.core.__future__': None, 'sqlite3._sqlite3': None, 'zmq.backend.cython.struct': None, 'IPython.kernel.zmq.atexit': None, 'IPython.core.interactiveshell': <module 'IPython.core.interactiveshell' from 'C:\\Python27\\lib\\site-packages\\IPython\\core\\interactiveshell.pyc'>, 'IPython.utils.base64': None, 'zmq.sugar.poll': <module 'zmq.sugar.poll' from 'C:\\Python27\\lib\\site-packages\\pyzmq-14.5.0-py2.7-win32.egg\\zmq\\sugar\\poll.pyc'>, 'IPython.core.operator': None, 'IPython.core.crashhandler': <module 'IPython.core.crashhandler' from 'C:\\Python27\\lib\\site-packages\\IPython\\core\\crashhandler.pyc'>, 'IPython.utils': <module 'IPython.utils' from 'C:\\Python27\\lib\\site-packages\\IPython\\utils\\__init__.pyc'>, '_subprocess': <module '_subprocess' (built-in)>, 're': <module 're' from 'C:\\Python27\\lib\\re.pyc'>, 'IPython.kernel.zmq.sys': None, 'IPython.core.magics.IPython': None, 'IPython.utils.capture': <module 'IPython.utils.capture' from 'C:\\Python27\\lib\\site-packages\\IPython\\utils\\capture.pyc'>, 'pyreadline.keysyms.winconstants': <module 'pyreadline.keysyms.winconstants' from 'C:\\Python27\\lib\\site-packages\\pyreadline-2.0-py2.7-win32.egg\\pyreadline\\keysyms\\winconstants.pyc'>, 'sqlite3.time': None, 'math': <module 'math' (built-in)>, 'IPython.core.IPython': None, 'IPython.kernel.comm.sys': None, 'IPython.core.importlib': None, 'ast': <module 'ast' from 'C:\\Python27\\lib\\ast.pyc'>, 'IPython.lib.sys': None, 'IPython.kernel.launcher': <module 'IPython.kernel.launcher' from 'C:\\Python27\\lib\\site-packages\\IPython\\kernel\\launcher.pyc'>, 'zmq.utils.constant_names': <module 'zmq.utils.constant_names' from 'C:\\Python27\\lib\\site-packages\\pyzmq-14.5.0-py2.7-win32.egg\\zmq\\utils\\constant_names.pyc'>, 'IPython.external.path.codecs': None, 'pyreadline': <module 'pyreadline' from 'C:\\Python27\\lib\\site-packages\\pyreadline-2.0-py2.7-win32.egg\\pyreadline\\__init__.pyc'>, 'ctypes.struct': None, 'IPython.core.errno': None, '_locale': <module '_locale' (built-in)>, 'IPython.core.logging': None, 'logging': <module 'logging' from 'C:\\Python27\\lib\\logging\\__init__.pyc'>, 'IPython.kernel.zmq.uuid': None, 'thread': <module 'thread' (built-in)>, 'traceback': <module 'traceback' from 'C:\\Python27\\lib\\traceback.pyc'>, 'IPython.utils.tokenutil': <module 'IPython.utils.tokenutil' from 'C:\\Python27\\lib\\site-packages\\IPython\\utils\\tokenutil.pyc'>, 'IPython.core.builtin_trap': <module 'IPython.core.builtin_trap' from 'C:\\Python27\\lib\\site-packages\\IPython\\core\\builtin_trap.pyc'>, 'zmq.backend.platform': None, 'IPython.utils.coloransi': <module 'IPython.utils.coloransi' from 'C:\\Python27\\lib\\site-packages\\IPython\\utils\\coloransi.pyc'>, 'multiprocessing.util': <module 'multiprocessing.util' from 'C:\\Python27\\lib\\multiprocessing\\util.pyc'>, 'IPython.core.completerlib': <module 'IPython.core.completerlib' from 'C:\\Python27\\lib\\site-packages\\IPython\\core\\completerlib.pyc'>, '_collections': <module '_collections' (built-in)>, 'IPython.html.os': None, 'multiprocessing.sys': None, 'pyreadline.keysyms.common': <module 'pyreadline.keysyms.common' from 'C:\\Python27\\lib\\site-packages\\pyreadline-2.0-py2.7-win32.egg\\pyreadline\\keysyms\\common.pyc'>, 'array': <module 'array' (built-in)>, 'IPython.kernel.blocking.channels': <module 'IPython.kernel.blocking.channels' from 'C:\\Python27\\lib\\site-packages\\IPython\\kernel\\blocking\\channels.pyc'>, 'IPython.utils.locale': None, 'IPython.core.magics.pdb': None, 'ctypes.sys': None, 'IPython.core.magics.config': <module 'IPython.core.magics.config' from 'C:\\Python27\\lib\\site-packages\\IPython\\core\\magics\\config.pyc'>, 'posixpath': <module 'posixpath' from 'C:\\Python27\\lib\\posixpath.pyc'>, 'ctypes.util': <module 'ctypes.util' from 'C:\\Python27\\lib\\ctypes\\util.pyc'>, 'IPython.external.simplegeneric': <module 'IPython.external.simplegeneric' from 'C:\\Python27\\lib\\site-packages\\IPython\\external\\simplegeneric\\__init__.pyc'>, 'zmq.sugar.atexit': None, 'IPython.utils._sysinfo': <module 'IPython.utils._sysinfo' from 'C:\\Python27\\lib\\site-packages\\IPython\\utils\\_sysinfo.pyc'>, 'zmq.eventloop.ioloop': <module 'zmq.eventloop.ioloop' from 'C:\\Python27\\lib\\site-packages\\pyzmq-14.5.0-py2.7-win32.egg\\zmq\\eventloop\\ioloop.pyc'>, 'IPython.lib.imp': None, 'types': <module 'types' from 'C:\\Python27\\lib\\types.pyc'>, 'zmq.backend.cython._device': <module 'zmq.backend.cython._device' from 'C:\\Python27\\lib\\site-packages\\pyzmq-14.5.0-py2.7-win32.egg\\zmq\\backend\\cython\\_device.pyd'>, 'IPython.utils.textwrap': None, 'IPython.core.linecache': None, 'json._json': None, 'IPython.lib.StringIO': None, '_codecs': <module '_codecs' (built-in)>, 'zmq.backend.cython.zmq': None, 'json.sys': None, 'encodings.ascii': <module 'encodings.ascii' from 'C:\\Python27\\lib\\encodings\\ascii.pyc'>, 'IPython.utils.os': None, 'IPython.extensions.inspect': None, 'IPython.core.magics.code': <module 'IPython.core.magics.code' from 'C:\\Python27\\lib\\site-packages\\IPython\\core\\magics\\code.pyc'>, 'copy': <module 'copy' from 'C:\\Python27\\lib\\copy.pyc'>, 'hashlib': <module 'hashlib' from 'C:\\Python27\\lib\\hashlib.pyc'>, 'zmq.error': <module 'zmq.error' from 'C:\\Python27\\lib\\site-packages\\pyzmq-14.5.0-py2.7-win32.egg\\zmq\\error.pyc'>, 'keyword': <module 'keyword' from 'C:\\Python27\\lib\\keyword.pyc'>, 'IPython.extensions.IPython': None, 'IPython.core.hashlib': None, 'IPython.config.logging': None, 'IPython.utils.codeutil': <module 'IPython.utils.codeutil' from 'C:\\Python27\\lib\\site-packages\\IPython\\utils\\codeutil.pyc'>, 'IPython.kernel.blocking.IPython': None, 'IPython.lib.msvcrt': None, 'IPython.utils.generics': <module 'IPython.utils.generics' from 'C:\\Python27\\lib\\site-packages\\IPython\\utils\\generics.pyc'>, 'IPython.kernel.zmq.zmq': None, 'sre_compile': <module 'sre_compile' from 'C:\\Python27\\lib\\sre_compile.pyc'>, '_hashlib': <module '_hashlib' from 'C:\\Python27\\DLLs\\_hashlib.pyd'>, 'IPython.utils.ulinecache': <module 'IPython.utils.ulinecache' from 'C:\\Python27\\lib\\site-packages\\IPython\\utils\\ulinecache.pyc'>, 'IPython.external.path.errno': None, 'IPython.core.sqlite3': None, 'getpass': <module 'getpass' from 'C:\\Python27\\lib\\getpass.pyc'>, 'logging.collections': None, 'IPython.core.threading': None, 'zmq.eventloop.zmq': None, '__main__': <module '__main__' (built-in)>, 'multiprocessing.atexit': None, 'calendar': <module 'calendar' from 'C:\\Python27\\lib\\calendar.pyc'>, 'IPython.utils.log': <module 'IPython.utils.log' from 'C:\\Python27\\lib\\site-packages\\IPython\\utils\\log.pyc'>, 'IPython.kernel.zmq.iostream': <module 'IPython.kernel.zmq.iostream' from 'C:\\Python27\\lib\\site-packages\\IPython\\kernel\\zmq\\iostream.pyc'>, 'IPython.utils.terminal': <module 'IPython.utils.terminal' from 'C:\\Python27\\lib\\site-packages\\IPython\\utils\\terminal.pyc'>, 'encodings.codecs': None, 'IPython.utils.__builtin__': None, 'IPython.terminal.os': None, 'zmq.utils.jsonapi': <module 'zmq.utils.jsonapi' from 'C:\\Python27\\lib\\site-packages\\pyzmq-14.5.0-py2.7-win32.egg\\zmq\\utils\\jsonapi.pyc'>, 'IPython.utils.pickleshare': <module 'IPython.utils.pickleshare' from 'C:\\Python27\\lib\\site-packages\\IPython\\utils\\pickleshare.pyc'>, 'IPython.kernel.blocking.Queue': None, 'IPython.kernel.zmq.os': None, 'IPython.core.completer': <module 'IPython.core.completer' from 'C:\\Python27\\lib\\site-packages\\IPython\\core\\completer.pyc'>, 'IPython.kernel.zmq.warnings': None, '_ssl': <module '_ssl' from 'C:\\Python27\\DLLs\\_ssl.pyd'>, 'IPython.external.path.glob': None, 'IPython.utils.sys': None, 'warnings': <module 'warnings' from 'C:\\Python27\\lib\\warnings.pyc'>, 'tornado': <module 'tornado' from 'C:\\Python27\\lib\\site-packages\\tornado-4.1-py2.7-win32.egg\\tornado\\__init__.pyc'>, 'IPython.lib.clipboard': <module 'IPython.lib.clipboard' from 'C:\\Python27\\lib\\site-packages\\IPython\\lib\\clipboard.pyc'>, 'glob': <module 'glob' from 'C:\\Python27\\lib\\glob.pyc'>, 'IPython.utils.inspect': None, 'zmq.backend.cython.sys': None, 'IPython.core.socket': None, '_sqlite3': <module '_sqlite3' from 'C:\\Python27\\DLLs\\_sqlite3.pyd'>, 'IPython.external.path._path': <module 'IPython.external.path._path' from 'C:\\Python27\\lib\\site-packages\\IPython\\external\\path\\_path.pyc'>, 'zmq.backend.cython.random': None, 'IPython.kernel.zmq.getpass': None, 'IPython.kernel.managerabc': <module 'IPython.kernel.managerabc' from 'C:\\Python27\\lib\\site-packages\\IPython\\kernel\\managerabc.pyc'>, 'ctypes.imp': None, 'multiprocessing._multiprocessing': None, 'IPython.html.zipfile': None, 'IPython.html': <module 'IPython.html' from 'C:\\Python27\\lib\\site-packages\\IPython\\html\\__init__.pyc'>, 'zmq.backend.cython.error': <module 'zmq.backend.cython.error' from 'C:\\Python27\\lib\\site-packages\\pyzmq-14.5.0-py2.7-win32.egg\\zmq\\backend\\cython\\error.pyd'>, 'IPython.utils.wildcard': <module 'IPython.utils.wildcard' from 'C:\\Python27\\lib\\site-packages\\IPython\\utils\\wildcard.pyc'>, 'IPython.core.extensions': <module 'IPython.core.extensions' from 'C:\\Python27\\lib\\site-packages\\IPython\\core\\extensions.pyc'>, '_io': <module '_io' (built-in)>, 'linecache': <module 'linecache' from 'C:\\Python27\\lib\\linecache.pyc'>, 'IPython.utils.contextlib': None, 'IPython.kernel.inprocess.socket': <module 'IPython.kernel.inprocess.socket' from 'C:\\Python27\\lib\\site-packages\\IPython\\kernel\\inprocess\\socket.pyc'>, 'IPython.core.compilerop': <module 'IPython.core.compilerop' from 'C:\\Python27\\lib\\site-packages\\IPython\\core\\compilerop.pyc'>, 'IPython.config.argparse': None, 'pyreadline.release': <module 'pyreadline.release' from 'C:\\Python27\\lib\\site-packages\\pyreadline-2.0-py2.7-win32.egg\\pyreadline\\release.pyc'>, 'hmac': <module 'hmac' from 'C:\\Python27\\lib\\hmac.pyc'>, 'IPython.utils.stat': None, '_multiprocessing': <module '_multiprocessing' from 'C:\\Python27\\DLLs\\_multiprocessing.pyd'>, 'tarfile': <module 'tarfile' from 'C:\\Python27\\lib\\tarfile.pyc'>, 'IPython.terminal.__future__': None, 'random': <module 'random' from 'C:\\Python27\\lib\\random.pyc'>, 'pyreadline.console.ansi': <module 'pyreadline.console.ansi' from 'C:\\Python27\\lib\\site-packages\\pyreadline-2.0-py2.7-win32.egg\\pyreadline\\console\\ansi.pyc'>, 'win32security': <module 'win32security' from 'C:\\Python27\\lib\\site-packages\\win32\\win32security.pyd'>, 'datetime': <module 'datetime' (built-in)>, 'IPython.extensions.storemagic': <module 'IPython.extensions.storemagic' from 'C:\\Python27\\lib\\site-packages\\IPython\\extensions\\storemagic.pyc'>, 'logging.os': None, 'ctypes._endian': <module 'ctypes._endian' from 'C:\\Python27\\lib\\ctypes\\_endian.pyc'>, 'encodings.encodings': None, 'IPython.kernel.zmq.hashlib': None, 'IPython.external.path.re': None, 'logging.stat': None, 'distutils': <module 'distutils' from 'C:\\Python27\\lib\\distutils\\__init__.pyc'>, 'IPython.core.magic': <module 'IPython.core.magic' from 'C:\\Python27\\lib\\site-packages\\IPython\\core\\magic.pyc'>, 'IPython.kernel.zmq._subprocess': None, 'IPython.utils.dir2': <module 'IPython.utils.dir2' from 'C:\\Python27\\lib\\site-packages\\IPython\\utils\\dir2.pyc'>, '_json': <module '_json' (built-in)>, 'IPython.lib.contextlib': None, 'logging.thread': None, 'cProfile': <module 'cProfile' from 'C:\\Python27\\lib\\cProfile.pyc'>, 'IPython.utils.copy_reg': None, 'IPython.lib.re': None, 'IPython.kernel.zmq.errno': None, 'json.struct': None, 'IPython.utils.copy': None, 'IPython.kernel.zmq.datetime': None, 'repr': <module 'repr' from 'C:\\Python27\\lib\\repr.pyc'>, 'ssl': <module 'ssl' from 'C:\\Python27\\lib\\ssl.pyc'>, 'IPython.core.payload': <module 'IPython.core.payload' from 'C:\\Python27\\lib\\site-packages\\IPython\\core\\payload.pyc'>, 'distutils.re': None, '_lsprof': <module '_lsprof' (built-in)>, 'IPython.utils._tokenize_py2': <module 'IPython.utils._tokenize_py2' from 'C:\\Python27\\lib\\site-packages\\IPython\\utils\\_tokenize_py2.pyc'>, 'IPython.utils.hashlib': None, 'IPython.kernel.shutil': None, 'zmq.sugar': <module 'zmq.sugar' from 'C:\\Python27\\lib\\site-packages\\pyzmq-14.5.0-py2.7-win32.egg\\zmq\\sugar\\__init__.pyc'>, 'IPython.kernel.os': None, 'IPython.html.urlparse': None, 'IPython.kernel.inprocess.blocking': <module 'IPython.kernel.inprocess.blocking' from 'C:\\Python27\\lib\\site-packages\\IPython\\kernel\\inprocess\\blocking.pyc'>, 'IPython.html.sys': None, 'IPython.utils.IPython': None, 'pydoc': <module 'pydoc' from 'C:\\Python27\\lib\\pydoc.pyc'>, 'threading': <module 'threading' from 'C:\\Python27\\lib\\threading.pyc'>, 'zmq.ctypes': None, 'IPython.core.prefilter': <module 'IPython.core.prefilter' from 'C:\\Python27\\lib\\site-packages\\IPython\\core\\prefilter.pyc'>, 'IPython.lib.datetime': None, 'ctypes.wintypes': <module 'ctypes.wintypes' from 'C:\\Python27\\lib\\ctypes\\wintypes.pyc'>, 'IPython.core.events': <module 'IPython.core.events' from 'C:\\Python27\\lib\\site-packages\\IPython\\core\\events.pyc'>, 'IPython.core.textwrap': None, 'pyreadline.unicode_helper': <module 'pyreadline.unicode_helper' from 'C:\\Python27\\lib\\site-packages\\pyreadline-2.0-py2.7-win32.egg\\pyreadline\\unicode_helper.pyc'>, 'locale': <module 'locale' from 'C:\\Python27\\lib\\locale.pyc'>, 'atexit': <module 'atexit' from 'C:\\Python27\\lib\\atexit.pyc'>, 'IPython.external': <module 'IPython.external' from 'C:\\Python27\\lib\\site-packages\\IPython\\external\\__init__.pyc'>, 'IPython.utils.struct': None, 'IPython.core.autocall': <module 'IPython.core.autocall' from 'C:\\Python27\\lib\\site-packages\\IPython\\core\\autocall.pyc'>, 'IPython.core.sys': None, 'zmq.backend.cython.message': <module 'zmq.backend.cython.message' from 'C:\\Python27\\lib\\site-packages\\pyzmq-14.5.0-py2.7-win32.egg\\zmq\\backend\\cython\\message.pyd'>, 'IPython.core.magics.__future__': None, 'timeit': <module 'timeit' from 'C:\\Python27\\lib\\timeit.pyc'>, 'zmq.devices.basedevice': <module 'zmq.devices.basedevice' from 'C:\\Python27\\lib\\site-packages\\pyzmq-14.5.0-py2.7-win32.egg\\zmq\\devices\\basedevice.pyc'>, 'IPython.kernel.comm': <module 'IPython.kernel.comm' from 'C:\\Python27\\lib\\site-packages\\IPython\\kernel\\comm\\__init__.pyc'>, 'tornado.log': <module 'tornado.log' from 'C:\\Python27\\lib\\site-packages\\tornado-4.1-py2.7-win32.egg\\tornado\\log.pyc'>, 'urllib': <module 'urllib' from 'C:\\Python27\\lib\\urllib.pyc'>, 'IPython.core.os': None, 'zmq.devices.proxydevice': <module 'zmq.devices.proxydevice' from 'C:\\Python27\\lib\\site-packages\\pyzmq-14.5.0-py2.7-win32.egg\\zmq\\devices\\proxydevice.pyc'>, 'pyreadline.keysyms.keysyms': <module 'pyreadline.keysyms.keysyms' from 'C:\\Python27\\lib\\site-packages\\pyreadline-2.0-py2.7-win32.egg\\pyreadline\\keysyms\\keysyms.pyc'>, 'pyreadline.lineeditor': <module 'pyreadline.lineeditor' from 'C:\\Python27\\lib\\site-packages\\pyreadline-2.0-py2.7-win32.egg\\pyreadline\\lineeditor\\__init__.pyc'>, 'zmq.sys': None, 'IPython.utils.path': <module 'IPython.utils.path' from 'C:\\Python27\\lib\\site-packages\\IPython\\utils\\path.pyc'>, 'IPython.core.atexit': None, 'zmq.utils': <module 'zmq.utils' from 'C:\\Python27\\lib\\site-packages\\pyzmq-14.5.0-py2.7-win32.egg\\zmq\\utils\\__init__.pyc'>, 'Queue': <module 'Queue' from 'C:\\Python27\\lib\\Queue.pyc'>, 'ctypes': <module 'ctypes' from 'C:\\Python27\\lib\\ctypes\\__init__.pyc'>, 'IPython.lib.collections': None, 'IPython.core.magics.re': None, 'IPython.kernel.zmq.io': None, 'IPython.utils._process_common': <module 'IPython.utils._process_common' from 'C:\\Python27\\lib\\site-packages\\IPython\\utils\\_process_common.pyc'>, 'IPython.lib.distutils': None, 'IPython.kernel.zmq.datapub': <module 'IPython.kernel.zmq.datapub' from 'C:\\Python27\\lib\\site-packages\\IPython\\kernel\\zmq\\datapub.pyc'>, 'IPython.external.path.shutil': None, 'IPython.utils.collections': None, 'itertools': <module 'itertools' (built-in)>, 'opcode': <module 'opcode' from 'C:\\Python27\\lib\\opcode.pyc'>, 'pstats': <module 'pstats' from 'C:\\Python27\\lib\\pstats.pyc'>, 'pyreadline.lineeditor.lineobj': <module 'pyreadline.lineeditor.lineobj' from 'C:\\Python27\\lib\\site-packages\\pyreadline-2.0-py2.7-win32.egg\\pyreadline\\lineeditor\\lineobj.pyc'>, 'pdb': <module 'pdb' from 'C:\\Python27\\lib\\pdb.pyc'>, 'IPython.core.magics.subprocess': None, 'IPython.extensions.os': None, 'IPython.core.inputsplitter': <module 'IPython.core.inputsplitter' from 'C:\\Python27\\lib\\site-packages\\IPython\\core\\inputsplitter.pyc'>, 'IPython.kernel.comm.IPython': None, 'IPython.kernel.zmq.logging': None, 'IPython.testing': <module 'IPython.testing' from 'C:\\Python27\\lib\\site-packages\\IPython\\testing\\__init__.pyc'>, 'sqlite3.datetime': None, 'zmq.sugar.socket': <module 'zmq.sugar.socket' from 'C:\\Python27\\lib\\site-packages\\pyzmq-14.5.0-py2.7-win32.egg\\zmq\\sugar\\socket.pyc'>, 'IPython.html.shutil': None, 'logging.errno': None, 'zmq.eventloop.zmqstream': <module 'zmq.eventloop.zmqstream' from 'C:\\Python27\\lib\\site-packages\\pyzmq-14.5.0-py2.7-win32.egg\\zmq\\eventloop\\zmqstream.pyc'>, 'IPython.external.path': <module 'IPython.external.path' from 'C:\\Python27\\lib\\site-packages\\IPython\\external\\path\\__init__.pyc'>, 'IPython.core.hooks': <module 'IPython.core.hooks' from 'C:\\Python27\\lib\\site-packages\\IPython\\core\\hooks.pyc'>, 'IPython.display': <module 'IPython.display' from 'C:\\Python27\\lib\\site-packages\\IPython\\display.pyc'>, 'pkgutil': <module 'pkgutil' from 'C:\\Python27\\lib\\pkgutil.pyc'>, 'IPython.core.tokenize': None, 'platform': <module 'platform' from 'C:\\Python27\\lib\\platform.pyc'>, 'IPython.lib.__future__': None, 'zmq.devices.zmq': None, 'zmq.backend.cython': <module 'zmq.backend.cython' from 'C:\\Python27\\lib\\site-packages\\pyzmq-14.5.0-py2.7-win32.egg\\zmq\\backend\\cython\\__init__.pyc'>, 'logging.struct': None, 'sre_constants': <module 'sre_constants' from 'C:\\Python27\\lib\\sre_constants.pyc'>, 'zmq.backend.os': None, 'json': <module 'json' from 'C:\\Python27\\lib\\json\\__init__.pyc'>, 'pyreadline.clipboard': <module 'pyreadline.clipboard' from 'C:\\Python27\\lib\\site-packages\\pyreadline-2.0-py2.7-win32.egg\\pyreadline\\clipboard\\__init__.pyc'>, 'IPython.lib.backgroundjobs': <module 'IPython.lib.backgroundjobs' from 'C:\\Python27\\lib\\site-packages\\IPython\\lib\\backgroundjobs.pyc'>, 'IPython.config.__future__': None, 'IPython.kernel.zmq.time': None, 'json.re': None, 'zmq.utils.itertools': None, 'zmq.eventloop': <module 'zmq.eventloop' from 'C:\\Python27\\lib\\site-packages\\pyzmq-14.5.0-py2.7-win32.egg\\zmq\\eventloop\\__init__.pyc'>, 'IPython.kernel.zmq.platform': None, 'pyreadline.error': <module 'pyreadline.error' from 'C:\\Python27\\lib\\site-packages\\pyreadline-2.0-py2.7-win32.egg\\pyreadline\\error.pyc'>, 'IPython.IPython': None, 'nturl2path': <module 'nturl2path' from 'C:\\Python27\\lib\\nturl2path.pyc'>, 'logging.cPickle': None, 'IPython.kernel': <module 'IPython.kernel' from 'C:\\Python27\\lib\\site-packages\\IPython\\kernel\\__init__.pyc'>, 'multiprocessing.multiprocessing': None, 'IPython.core.bdb': None, 'pyreadline.sys': None, 'storemagic': <module 'storemagic' from 'C:\\Python27\\lib\\site-packages\\IPython\\extensions\\storemagic.pyc'>, 'zlib': <module 'zlib' (built-in)>, 'IPython.external.path.warnings': None, 'pyreadline.clipboard.win32_clipboard': <module 'pyreadline.clipboard.win32_clipboard' from 'C:\\Python27\\lib\\site-packages\\pyreadline-2.0-py2.7-win32.egg\\pyreadline\\clipboard\\win32_clipboard.pyc'>, 'json.decoder': <module 'json.decoder' from 'C:\\Python27\\lib\\json\\decoder.pyc'>, 'copy_reg': <module 'copy_reg' from 'C:\\Python27\\lib\\copy_reg.pyc'>, 'tornado.platform.auto': <module 'tornado.platform.auto' from 'C:\\Python27\\lib\\site-packages\\tornado-4.1-py2.7-win32.egg\\tornado\\platform\\auto.pyc'>, 'IPython.utils.linecache': None, 'site': <module 'site' from 'C:\\Python27\\lib\\site.pyc'>, 'IPython.external.path.operator': None, 'IPython.core.shutil': None, 'zmq.devices.monitoredqueuedevice': <module 'zmq.devices.monitoredqueuedevice' from 'C:\\Python27\\lib\\site-packages\\pyzmq-14.5.0-py2.7-win32.egg\\zmq\\devices\\monitoredqueuedevice.pyc'>, 'io': <module 'io' from 'C:\\Python27\\lib\\io.pyc'>, 'shutil': <module 'shutil' from 'C:\\Python27\\lib\\shutil.pyc'>, 'IPython.utils.random': None, 'zmq.sugar.zmq': None, 'zmq.backend.sys': None, 'IPython.lib.warnings': None, 'IPython.utils.decorators': <module 'IPython.utils.decorators' from 'C:\\Python27\\lib\\site-packages\\IPython\\utils\\decorators.pyc'>, 'encodings.hex_codec': <module 'encodings.hex_codec' from 'C:\\Python27\\lib\\encodings\\hex_codec.pyc'>, 'IPython.testing.skipdoctest': <module 'IPython.testing.skipdoctest' from 'C:\\Python27\\lib\\site-packages\\IPython\\testing\\skipdoctest.pyc'>, 'IPython.core.magics.timeit': None, 'IPython.core.magics.script': <module 'IPython.core.magics.script' from 'C:\\Python27\\lib\\site-packages\\IPython\\core\\magics\\script.pyc'>, 'zope': <module 'zope' (built-in)>, 'encodings._multibytecodec': None, 'IPython.utils.localinterfaces': <module 'IPython.utils.localinterfaces' from 'C:\\Python27\\lib\\site-packages\\IPython\\utils\\localinterfaces.pyc'>, 'IPython.kernel.clientabc': <module 'IPython.kernel.clientabc' from 'C:\\Python27\\lib\\site-packages\\IPython\\kernel\\clientabc.pyc'>, 'IPython.core.macro': <module 'IPython.core.macro' from 'C:\\Python27\\lib\\site-packages\\IPython\\core\\macro.pyc'>, 'IPython.kernel.sys': None, 'IPython.kernel.zmq.__future__': None, 'IPython.core.magics.pprint': None, 'IPython.utils.data': <module 'IPython.utils.data' from 'C:\\Python27\\lib\\site-packages\\IPython\\utils\\data.pyc'>, 'json.json': None, 'IPython.core.types': None, 'sys': <module 'sys' (built-in)>, 'IPython.kernel.comm.comm': <module 'IPython.kernel.comm.comm' from 'C:\\Python27\\lib\\site-packages\\IPython\\kernel\\comm\\comm.pyc'>, 'IPython.terminal.IPython': None, 'multiprocessing.subprocess': None, 'importlib.sys': None, 'multiprocessing.weakref': None, 'IPython.core.magics.StringIO': None, 'IPython.core.usage': <module 'IPython.core.usage' from 'C:\\Python27\\lib\\site-packages\\IPython\\core\\usage.pyc'>, 'IPython.kernel.multikernelmanager': <module 'IPython.kernel.multikernelmanager' from 'C:\\Python27\\lib\\site-packages\\IPython\\kernel\\multikernelmanager.pyc'>, 'IPython.kernel.adapter': <module 'IPython.kernel.adapter' from 'C:\\Python27\\lib\\site-packages\\IPython\\kernel\\adapter.pyc'>, '_weakref': <module '_weakref' (built-in)>, 'IPython.core.inputtransformer': <module 'IPython.core.inputtransformer' from 'C:\\Python27\\lib\\site-packages\\IPython\\core\\inputtransformer.pyc'>, 'urlparse': <module 'urlparse' from 'C:\\Python27\\lib\\urlparse.pyc'>, 'IPython.lib.threading': None, 'IPython.kernel.zmq.kernelbase': <module 'IPython.kernel.zmq.kernelbase' from 'C:\\Python27\\lib\\site-packages\\IPython\\kernel\\zmq\\kernelbase.pyc'>, 'IPython.core.application': <module 'IPython.core.application' from 'C:\\Python27\\lib\\site-packages\\IPython\\core\\application.pyc'>, 'IPython.core': <module 'IPython.core' from 'C:\\Python27\\lib\\site-packages\\IPython\\core\\__init__.pyc'>, 'IPython.core.magics.io': None, 'IPython.core.pprint': None, 'IPython.core.StringIO': None, 'logging.logging': None, 'heapq': <module 'heapq' from 'C:\\Python27\\lib\\heapq.pyc'>, 'IPython.utils.math': None, 'IPython.core.time': None, 'zmq.glob': None, 'IPython.kernel.comm.manager': <module 'IPython.kernel.comm.manager' from 'C:\\Python27\\lib\\site-packages\\IPython\\kernel\\comm\\manager.pyc'>, 'IPython.kernel.zmq.displayhook': <module 'IPython.kernel.zmq.displayhook' from 'C:\\Python27\\lib\\site-packages\\IPython\\kernel\\zmq\\displayhook.pyc'>, 'zmq.backend.cython.socket': <module 'zmq.backend.cython.socket' from 'C:\\Python27\\lib\\site-packages\\pyzmq-14.5.0-py2.7-win32.egg\\zmq\\backend\\cython\\socket.pyd'>, 'IPython.core.magics.atexit': None, 'IPython.core.oinspect': <module 'IPython.core.oinspect' from 'C:\\Python27\\lib\\site-packages\\IPython\\core\\oinspect.pyc'>, 'zmq.sugar.attrsettr': <module 'zmq.sugar.attrsettr' from 'C:\\Python27\\lib\\site-packages\\pyzmq-14.5.0-py2.7-win32.egg\\zmq\\sugar\\attrsettr.pyc'>, 'tornado.escape': <module 'tornado.escape' from 'C:\\Python27\\lib\\site-packages\\tornado-4.1-py2.7-win32.egg\\tornado\\escape.pyc'>, 'msvcrt': <module 'msvcrt' (built-in)>, 'zmq.backend.cython.constants': <module 'zmq.backend.cython.constants' from 'C:\\Python27\\lib\\site-packages\\pyzmq-14.5.0-py2.7-win32.egg\\zmq\\backend\\cython\\constants.pyd'>, 'struct': <module 'struct' from 'C:\\Python27\\lib\\struct.pyc'>, 'IPython.utils.strdispatch': <module 'IPython.utils.strdispatch' from 'C:\\Python27\\lib\\site-packages\\IPython\\utils\\strdispatch.pyc'>, 'IPython.external.decorator.inspect': None, 'IPython.utils.tokenize2': <module 'IPython.utils.tokenize2' from 'C:\\Python27\\lib\\site-packages\\IPython\\utils\\tokenize2.pyc'>, 'IPython.html.uuid': None, 'IPython.utils.traitlets': <module 'IPython.utils.traitlets' from 'C:\\Python27\\lib\\site-packages\\IPython\\utils\\traitlets.pyc'>, '_abcoll': <module '_abcoll' from 'C:\\Python27\\lib\\_abcoll.pyc'>, 'collections': <module 'collections' from 'C:\\Python27\\lib\\collections.pyc'>, 'IPython.html.tarfile': None, 'IPython.lib.inputhook': <module 'IPython.lib.inputhook' from 'C:\\Python27\\lib\\site-packages\\IPython\\lib\\inputhook.pyc'>, 'logging.socket': None, 'IPython.core.pydoc': None, 'distutils.types': None, 'IPython.extensions.sys': None, 'pyreadline.py3k_compat': <module 'pyreadline.py3k_compat' from 'C:\\Python27\\lib\\site-packages\\pyreadline-2.0-py2.7-win32.egg\\pyreadline\\py3k_compat.pyc'>, 'IPython.utils.warn': <module 'IPython.utils.warn' from 'C:\\Python27\\lib\\site-packages\\IPython\\utils\\warn.pyc'>, 'zipimport': <module 'zipimport' (built-in)>, 'IPython.core.struct': None, 'textwrap': <module 'textwrap' from 'C:\\Python27\\lib\\textwrap.pyc'>, 'IPython.lib.subprocess': None, 'IPython.core.codeop': None, 'IPython.kernel.inprocess': <module 'IPython.kernel.inprocess' from 'C:\\Python27\\lib\\site-packages\\IPython\\kernel\\inprocess\\__init__.pyc'>, 'tornado.util': <module 'tornado.util' from 'C:\\Python27\\lib\\site-packages\\tornado-4.1-py2.7-win32.egg\\tornado\\util.pyc'>, 'IPython.core.magics.bdb': None, 'zmq.backend.cython._version': <module 'zmq.backend.cython._version' from 'C:\\Python27\\lib\\site-packages\\pyzmq-14.5.0-py2.7-win32.egg\\zmq\\backend\\cython\\_version.pyd'>, 'IPython.lib.random': None, 'IPython.utils.frame': <module 'IPython.utils.frame' from 'C:\\Python27\\lib\\site-packages\\IPython\\utils\\frame.pyc'>, 'IPython.external.decorator.re': None, 'signal': <module 'signal' (built-in)>, 'IPython.core.payloadpage': <module 'IPython.core.payloadpage' from 'C:\\Python27\\lib\\site-packages\\IPython\\core\\payloadpage.pyc'>, 'IPython.terminal.warnings': None, 'IPython.utils.zmqrelated': <module 'IPython.utils.zmqrelated' from 'C:\\Python27\\lib\\site-packages\\IPython\\utils\\zmqrelated.pyc'>, 'IPython.core.magics': <module 'IPython.core.magics' from 'C:\\Python27\\lib\\site-packages\\IPython\\core\\magics\\__init__.pyc'>, 'IPython.kernel.zmq.session': <module 'IPython.kernel.zmq.session' from 'C:\\Python27\\lib\\site-packages\\IPython\\kernel\\zmq\\session.pyc'>, 'IPython.core.getopt': None, 'IPython.kernel.inprocess.channels': <module 'IPython.kernel.inprocess.channels' from 'C:\\Python27\\lib\\site-packages\\IPython\\kernel\\inprocess\\channels.pyc'>, 'IPython.config.os': None, 'IPython.lib.display': <module 'IPython.lib.display' from 'C:\\Python27\\lib\\site-packages\\IPython\\lib\\display.pyc'>, 'IPython.external.decorator.sys': None, 'stat': <module 'stat' from 'C:\\Python27\\lib\\stat.pyc'>, '_winreg': <module '_winreg' (built-in)>, 'zmq.backend.cython.copy': None, 'IPython.utils.token': None, 'IPython.utils.module_paths': <module 'IPython.utils.module_paths' from 'C:\\Python27\\lib\\site-packages\\IPython\\utils\\module_paths.pyc'>, 'logging.traceback': None, 'pyreadline.modes.vi': <module 'pyreadline.modes.vi' from 'C:\\Python27\\lib\\site-packages\\pyreadline-2.0-py2.7-win32.egg\\pyreadline\\modes\\vi.pyc'>, 'IPython.core.magic_arguments': <module 'IPython.core.magic_arguments' from 'C:\\Python27\\lib\\site-packages\\IPython\\core\\magic_arguments.pyc'>, 'tornado.stack_context': <module 'tornado.stack_context' from 'C:\\Python27\\lib\\site-packages\\tornado-4.1-py2.7-win32.egg\\tornado\\stack_context.pyc'>, 'IPython.utils.re': None, 'pyreadline.modes.notemacs': <module 'pyreadline.modes.notemacs' from 'C:\\Python27\\lib\\site-packages\\pyreadline-2.0-py2.7-win32.egg\\pyreadline\\modes\\notemacs.pyc'>, 'IPython.utils.sysinfo': <module 'IPython.utils.sysinfo' from 'C:\\Python27\\lib\\site-packages\\IPython\\utils\\sysinfo.pyc'>, 'IPython.kernel.comm.zmq': None, 'IPython.core.argparse': None, 'IPython.utils.io': <module 'IPython.utils.io' from 'C:\\Python27\\lib\\site-packages\\IPython\\utils\\io.pyc'>, 'select': <module 'select' from 'C:\\Python27\\DLLs\\select.pyd'>, 'IPython.html.urllib': None, 'ctypes._ctypes': None, 'zmq.sugar.cPickle': None, 'IPython.utils.subprocess': None, 'IPython.kernel.zmq.parentpoller': <module 'IPython.kernel.zmq.parentpoller' from 'C:\\Python27\\lib\\site-packages\\IPython\\kernel\\zmq\\parentpoller.pyc'>, 'mpl_toolkits': <module 'mpl_toolkits' (built-in)>, 'IPython.utils.syspathcontext': <module 'IPython.utils.syspathcontext' from 'C:\\Python27\\lib\\site-packages\\IPython\\utils\\syspathcontext.pyc'>, 'IPython.core.itertools': None, 'IPython.lib': <module 'IPython.lib' from 'C:\\Python27\\lib\\site-packages\\IPython\\lib\\__init__.pyc'>, 'zmq.sugar.random': None, 'IPython.utils.PyColorize': <module 'IPython.utils.PyColorize' from 'C:\\Python27\\lib\\site-packages\\IPython\\utils\\PyColorize.pyc'>, 'pyreadline.keysyms': <module 'pyreadline.keysyms' from 'C:\\Python27\\lib\\site-packages\\pyreadline-2.0-py2.7-win32.egg\\pyreadline\\keysyms\\__init__.pyc'>, 'tornado.platform.common': <module 'tornado.platform.common' from 'C:\\Python27\\lib\\site-packages\\tornado-4.1-py2.7-win32.egg\\tornado\\platform\\common.pyc'>, 'logging.sys': None, 'IPython.lib.ctypes': None, 'IPython.utils._process_win32': <module 'IPython.utils._process_win32' from 'C:\\Python27\\lib\\site-packages\\IPython\\utils\\_process_win32.pyc'>, '_functools': <module '_functools' (built-in)>, 'IPython.kernel.zmq.random': None, 'socket': <module 'socket' from 'C:\\Python27\\lib\\socket.pyc'>, 'IPython.kernel.zmq.socket': None, 'zmq.sugar.version': <module 'zmq.sugar.version' from 'C:\\Python27\\lib\\site-packages\\pyzmq-14.5.0-py2.7-win32.egg\\zmq\\sugar\\version.pyc'>, 'IPython.core.magics.basic': <module 'IPython.core.magics.basic' from 'C:\\Python27\\lib\\site-packages\\IPython\\core\\magics\\basic.pyc'>, 'IPython.utils.contexts': <module 'IPython.utils.contexts' from 'C:\\Python27\\lib\\site-packages\\IPython\\utils\\contexts.pyc'>, 'IPython.core.imp': None, 'zmq.eventloop.sys': None, 'IPython.core.pdb': None, 'os': <module 'os' from 'C:\\Python27\\lib\\os.pyc'>, 'marshal': <module 'marshal' (built-in)>, 'pyreadline.modes': <module 'pyreadline.modes' from 'C:\\Python27\\lib\\site-packages\\pyreadline-2.0-py2.7-win32.egg\\pyreadline\\modes\\__init__.pyc'>, 'distutils.version': <module 'distutils.version' from 'C:\\Python27\\lib\\distutils\\version.pyc'>, '__future__': <module '__future__' from 'C:\\Python27\\lib\\__future__.pyc'>, 'IPython.kernel.abc': None, 'distutils.string': None, '_multibytecodec': <module '_multibytecodec' (built-in)>, 'IPython.external.simplegeneric._simplegeneric': <module 'IPython.external.simplegeneric._simplegeneric' from 'C:\\Python27\\lib\\site-packages\\IPython\\external\\simplegeneric\\_simplegeneric.pyc'>, 'pyreadline.lineeditor.history': <module 'pyreadline.lineeditor.history' from 'C:\\Python27\\lib\\site-packages\\pyreadline-2.0-py2.7-win32.egg\\pyreadline\\lineeditor\\history.pyc'>, '__builtin__': <module '__builtin__' (built-in)>, 'IPython.kernel.blocking': <module 'IPython.kernel.blocking' from 'C:\\Python27\\lib\\site-packages\\IPython\\kernel\\blocking\\__init__.pyc'>, 'operator': <module 'operator' (built-in)>, 'IPython.core.msvcrt': None, 'IPython.core.shellapp': <module 'IPython.core.shellapp' from 'C:\\Python27\\lib\\site-packages\\IPython\\core\\shellapp.pyc'>, 'IPython.external.path.sys': None, 'zmq.eventloop.tornado': None, 'IPython.core.re': None, 'errno': <module 'errno' (built-in)>, '_socket': <module '_socket' from 'C:\\Python27\\DLLs\\_socket.pyd'>, 'IPython.utils.rlineimpl': <module 'IPython.utils.rlineimpl' from 'C:\\Python27\\lib\\site-packages\\IPython\\utils\\rlineimpl.pyc'>, 'IPython.core.magics.json': None, 'IPython.core.glob': None, 'IPython.core.abc': None, 'IPython.external.decorator.__future__': None, 'IPython.kernel.zmq.ctypes': None, '_warnings': <module '_warnings' (built-in)>, 'IPython.core.magics.sys': None, 'IPython.core.latex_symbols': <module 'IPython.core.latex_symbols' from 'C:\\Python27\\lib\\site-packages\\IPython\\core\\latex_symbols.pyc'>, 'zmq.eventloop.cPickle': None, 'IPython.utils.text': <module 'IPython.utils.text' from 'C:\\Python27\\lib\\site-packages\\IPython\\utils\\text.pyc'>, 'encodings.__builtin__': None, 'IPython.utils.__future__': None, 'tornado.platform': <module 'tornado.platform' from 'C:\\Python27\\lib\\site-packages\\tornado-4.1-py2.7-win32.egg\\tornado\\platform\\__init__.pyc'>, 'IPython.core.profiledir': <module 'IPython.core.profiledir' from 'C:\\Python27\\lib\\site-packages\\IPython\\core\\profiledir.pyc'>, 'IPython.utils.cPickle': None, '_codecs_cn': <module '_codecs_cn' (built-in)>, 'zmq.backend': <module 'zmq.backend' from 'C:\\Python27\\lib\\site-packages\\pyzmq-14.5.0-py2.7-win32.egg\\zmq\\backend\\__init__.pyc'>, 'IPython.utils.types': None, 'IPython.core.magics.inspect': None, '_struct': <module '_struct' (built-in)>, 'IPython.core.magics.pylab': <module 'IPython.core.magics.pylab' from 'C:\\Python27\\lib\\site-packages\\IPython\\core\\magics\\pylab.pyc'>, 'IPython.kernel.zmq.traceback': None, 'IPython.core.functools': None, 'logging.time': None, 'IPython.kernel.zmq.threading': None, 'IPython.kernel.zmq.zmqshell': <module 'IPython.kernel.zmq.zmqshell' from 'C:\\Python27\\lib\\site-packages\\IPython\\kernel\\zmq\\zmqshell.pyc'>, 'logging.warnings': None, 'IPython.terminal.bdb': None, 'pyreadline.modes.emacs': <module 'pyreadline.modes.emacs' from 'C:\\Python27\\lib\\site-packages\\pyreadline-2.0-py2.7-win32.egg\\pyreadline\\modes\\emacs.pyc'>, 'multiprocessing.signal': None, 'logging.codecs': None, '_random': <module '_random' (built-in)>, 'zmq.utils.zmq': None, 'contextlib': <module 'contextlib' from 'C:\\Python27\\lib\\contextlib.pyc'>, 'IPython.utils.time': None, 'IPython.core.magics.os': None, 'IPython.lib.hashlib': None, 'IPython.utils.glob': None, 'zmq.utils.strtypes': <module 'zmq.utils.strtypes' from 'C:\\Python27\\lib\\site-packages\\pyzmq-14.5.0-py2.7-win32.egg\\zmq\\utils\\strtypes.pyc'>, 'IPython.core.string': None, 'IPython.utils.importstring': <module 'IPython.utils.importstring' from 'C:\\Python27\\lib\\site-packages\\IPython\\utils\\importstring.pyc'>, 'IPython.core.release': <module 'IPython.core.release' from 'C:\\Python27\\lib\\site-packages\\IPython\\core\\release.pyc'>, 'IPython.lib.pretty': <module 'IPython.lib.pretty' from 'C:\\Python27\\lib\\site-packages\\IPython\\lib\\pretty.pyc'>, '_strptime': <module '_strptime' from 'C:\\Python27\\lib\\_strptime.pyc'>, 'gettext': <module 'gettext' from 'C:\\Python27\\lib\\gettext.pyc'>, 'IPython.external.path.tempfile': None, 'IPython.utils.string': None, 'IPython.utils.timing': <module 'IPython.utils.timing' from 'C:\\Python27\\lib\\site-packages\\IPython\\utils\\timing.pyc'>, 'getopt': <module 'getopt' from 'C:\\Python27\\lib\\getopt.pyc'>, 'nt': <module 'nt' (built-in)>, 'zmq.sugar.time': None, 'zmq.eventloop.Queue': None, 'genericpath': <module 'genericpath' from 'C:\\Python27\\lib\\genericpath.pyc'>, 'mimetypes': <module 'mimetypes' from 'C:\\Python27\\lib\\mimetypes.pyc'>, 'IPython.core.magics.errno': None, 'IPython.kernel.inprocess.abc': None, 'IPython.core.prompts': <module 'IPython.core.prompts' from 'C:\\Python27\\lib\\site-packages\\IPython\\core\\prompts.pyc'>, 'IPython.core.formatters': <module 'IPython.core.formatters' from 'C:\\Python27\\lib\\site-packages\\IPython\\core\\formatters.pyc'>, 'IPython.lib.security': <module 'IPython.lib.security' from 'C:\\Python27\\lib\\site-packages\\IPython\\lib\\security.pyc'>, 'tornado.speedups': <module 'tornado.speedups' from 'C:\\Python27\\lib\\site-packages\\tornado-4.1-py2.7-win32.egg\\tornado\\speedups.pyd'>, 'time': <module 'time' (built-in)>, 'multiprocessing.threading': None, 'zmq.sugar.threading': None, 'IPython.config.loader': <module 'IPython.config.loader' from 'C:\\Python27\\lib\\site-packages\\IPython\\config\\loader.pyc'>, 'zmq.devices.multiprocessing': None, 'ctypes.ctypes': None, 'IPython.utils.functools': None, 'readline': <module 'readline' from 'C:\\Python27\\lib\\site-packages\\pyreadline-2.0-py2.7-win32.egg\\readline.pyc'>, 'zmq.utils.interop': <module 'zmq.utils.interop' from 'C:\\Python27\\lib\\site-packages\\pyzmq-14.5.0-py2.7-win32.egg\\zmq\\utils\\interop.pyc'>, 'IPython.kernel.zmq.hmac': None, 'IPython.kernel.zmq.pprint': None, 'IPython.kernel.comm.threading': None, 'tornado.platform.windows': <module 'tornado.platform.windows' from 'C:\\Python27\\lib\\site-packages\\tornado-4.1-py2.7-win32.egg\\tornado\\platform\\windows.pyc'>, 'IPython.html.__future__': None, 'encodings.mbcs': <module 'encodings.mbcs' from 'C:\\Python27\\lib\\encodings\\mbcs.pyc'>, 'IPython.core.magics.deprecated': <module 'IPython.core.magics.deprecated' from 'C:\\Python27\\lib\\site-packages\\IPython\\core\\magics\\deprecated.pyc'>, 'IPython.utils.signatures': <module 'IPython.utils.signatures' from 'C:\\Python27\\lib\\site-packages\\IPython\\utils\\signatures.pyc'>, 'IPython.core.tempfile': None, 'IPython.config.copy': None, 'IPython.kernel.inprocess.IPython': None, 'IPython.utils.py3compat': <module 'IPython.utils.py3compat' from 'C:\\Python27\\lib\\site-packages\\IPython\\utils\\py3compat.pyc'>, 'tornado.ioloop': <module 'tornado.ioloop' from 'C:\\Python27\\lib\\site-packages\\tornado-4.1-py2.7-win32.egg\\tornado\\ioloop.pyc'>}\n"
     ]
    }
   ],
   "source": [
    "# 打印当前环境下模块字典\n",
    "print sys.modules"
   ]
  },
  {
   "cell_type": "code",
   "execution_count": 33,
   "metadata": {
    "collapsed": false
   },
   "outputs": [
    {
     "data": {
      "text/plain": [
       "<module 'threading' from 'C:\\Python27\\lib\\threading.pyc'>"
      ]
     },
     "execution_count": 33,
     "metadata": {},
     "output_type": "execute_result"
    }
   ],
   "source": [
    "sys.modules[\"threading\"]"
   ]
  },
  {
   "cell_type": "code",
   "execution_count": 34,
   "metadata": {
    "collapsed": false
   },
   "outputs": [
    {
     "data": {
      "text/plain": [
       "(9876, 'c:\\\\gitGitgit\\\\Note\\\\notebook')"
      ]
     },
     "execution_count": 34,
     "metadata": {},
     "output_type": "execute_result"
    }
   ],
   "source": [
    "import os\n",
    "os.getpid(), os.getcwd()"
   ]
  },
  {
   "cell_type": "code",
   "execution_count": 35,
   "metadata": {
    "collapsed": false
   },
   "outputs": [
    {
     "data": {
      "text/plain": [
       "(';', '\\\\', '..', '.', '\\r\\n')"
      ]
     },
     "execution_count": 35,
     "metadata": {},
     "output_type": "execute_result"
    }
   ],
   "source": [
    "os.pathsep, os.sep, os.pardir, os.curdir, os.linesep"
   ]
  },
  {
   "cell_type": "code",
   "execution_count": 41,
   "metadata": {
    "collapsed": false
   },
   "outputs": [
    {
     "data": {
      "text/plain": [
       "('c:\\\\gitGitgit\\\\Note\\\\notebook\\\\text',\n",
       " ['.gitignore',\n",
       "  '.ipynb_checkpoints',\n",
       "  'scikit-learn-chapter1.ipynb',\n",
       "  'systemprogram-step1.ipynb'])"
      ]
     },
     "execution_count": 41,
     "metadata": {},
     "output_type": "execute_result"
    }
   ],
   "source": [
    "# 绝对路径\n",
    "os.path.abspath('text'), os.listdir(os.curdir)"
   ]
  },
  {
   "cell_type": "code",
   "execution_count": null,
   "metadata": {
    "collapsed": true
   },
   "outputs": [],
   "source": []
  },
  {
   "cell_type": "code",
   "execution_count": 42,
   "metadata": {
    "collapsed": false
   },
   "outputs": [
    {
     "data": {
      "text/plain": [
       "'*.xml\\n*.pyc\\n*.iml\\ndb.sqlite3\\n'"
      ]
     },
     "execution_count": 42,
     "metadata": {},
     "output_type": "execute_result"
    }
   ],
   "source": [
    "# 与shell命令交互\n",
    "text = os.popen('type .gitignore').read()\n",
    "text"
   ]
  },
  {
   "cell_type": "code",
   "execution_count": 44,
   "metadata": {
    "collapsed": false
   },
   "outputs": [
    {
     "data": {
      "text/plain": [
       "['.gitignore\\n',\n",
       " '.ipynb_checkpoints\\n',\n",
       " 'scikit-learn-chapter1.ipynb\\n',\n",
       " 'systemprogram-step1.ipynb\\n']"
      ]
     },
     "execution_count": 44,
     "metadata": {},
     "output_type": "execute_result"
    }
   ],
   "source": [
    "lists = os.popen('dir /B').readlines()\n",
    "lists"
   ]
  },
  {
   "cell_type": "code",
   "execution_count": 45,
   "metadata": {
    "collapsed": false
   },
   "outputs": [
    {
     "data": {
      "text/plain": [
       "<open file 'type .gitignore', mode 'r' at 0x031B1E90>"
      ]
     },
     "execution_count": 45,
     "metadata": {},
     "output_type": "execute_result"
    }
   ],
   "source": [
    "os.popen('type .gitignore')"
   ]
  },
  {
   "cell_type": "code",
   "execution_count": 48,
   "metadata": {
    "collapsed": false
   },
   "outputs": [
    {
     "data": {
      "text/plain": [
       "0"
      ]
     },
     "execution_count": 48,
     "metadata": {},
     "output_type": "execute_result"
    }
   ],
   "source": [
    "# 使用subprocess实现相同的功能\n",
    "import subprocess\n",
    "subprocess.call(\"type .gitignore\", shell=True)"
   ]
  },
  {
   "cell_type": "code",
   "execution_count": null,
   "metadata": {
    "collapsed": true
   },
   "outputs": [],
   "source": []
  }
 ],
 "metadata": {
  "kernelspec": {
   "display_name": "Python 2",
   "language": "python",
   "name": "python2"
  },
  "language_info": {
   "codemirror_mode": {
    "name": "ipython",
    "version": 2
   },
   "file_extension": ".py",
   "mimetype": "text/x-python",
   "name": "python",
   "nbconvert_exporter": "python",
   "pygments_lexer": "ipython2",
   "version": "2.7.9"
  }
 },
 "nbformat": 4,
 "nbformat_minor": 0
}
